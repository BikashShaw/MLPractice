{
 "cells": [
  {
   "cell_type": "heading",
   "metadata": {
    "collapsed": true
   },
   "level": 1,
   "source": [
    "Introduction"
   ]
  },
  {
   "cell_type": "markdown",
   "metadata": {},
   "source": [
    "This notebook analyzes content present in the DIJA 30 Stock Time Series dataset. It provides detailed insight into the stock trends and also includes a guide to train and fit a LSTM model for stock price prediction."
   ]
  },
  {
   "cell_type": "heading",
   "metadata": {},
   "level": 1,
   "source": [
    "Load libraries and set global options"
   ]
  },
  {
   "cell_type": "code",
   "execution_count": 3,
   "metadata": {},
   "outputs": [],
   "source": [
    "import pandas as pd\n",
    "import numpy as np\n",
    "import matplotlib.pyplot as plt\n",
    "import seaborn as sns"
   ]
  },
  {
   "cell_type": "code",
   "execution_count": 4,
   "metadata": {},
   "outputs": [],
   "source": [
    "pd.options.display.float_format = '{:.2f}'.format\n",
    "sns.set(rc={'figure.figsize':(20, 20)})"
   ]
  },
  {
   "cell_type": "code",
   "execution_count": 7,
   "metadata": {},
   "outputs": [
    {
     "name": "stdout",
     "output_type": "stream",
     "text": [
      "Python version: 3.6.4 |Anaconda, Inc.| (default, Jan 16 2018, 10:22:32) [MSC v.1900 64 bit (AMD64)]\npandas version: 0.22.0\nmatplotlib version: 2.1.2\nNumPy version: 1.14.0\nSciPy version: 1.0.0\nIPython version: 6.2.1\nscikit-learn version: 0.19.1\nkeras version: 2.1.4-tf\ntensorflow version: 1.7.0\n"
     ]
    }
   ],
   "source": [
    "import sys\n",
    "print(\"Python version: {}\". format(sys.version))\n",
    "\n",
    "import pandas as pd \n",
    "print(\"pandas version: {}\". format(pd.__version__))\n",
    "\n",
    "import matplotlib \n",
    "print(\"matplotlib version: {}\". format(matplotlib.__version__))\n",
    "\n",
    "import numpy as np \n",
    "print(\"NumPy version: {}\". format(np.__version__))\n",
    "\n",
    "import scipy as sp \n",
    "print(\"SciPy version: {}\". format(sp.__version__)) \n",
    "\n",
    "import IPython\n",
    "from IPython import display \n",
    "print(\"IPython version: {}\". format(IPython.__version__)) \n",
    "\n",
    "import sklearn \n",
    "print(\"scikit-learn version: {}\". format(sklearn.__version__))\n",
    "\n",
    "from tensorflow.python import keras\n",
    "print(\"keras version: {}\".format(keras.__version__))\n",
    "\n",
    "import tensorflow as tf\n",
    "print(\"tensorflow version: {}\".format(tf.__version__))"
   ]
  },
  {
   "cell_type": "heading",
   "metadata": {},
   "level": 1,
   "source": [
    "Read Data"
   ]
  },
  {
   "cell_type": "code",
   "execution_count": 8,
   "metadata": {},
   "outputs": [],
   "source": [
    "df = pd.read_csv('../Datasets/djia/all_stocks_2006-01-01_to_2018-01-01.csv')"
   ]
  },
  {
   "cell_type": "heading",
   "metadata": {},
   "level": 1,
   "source": [
    "Data Overview"
   ]
  },
  {
   "cell_type": "code",
   "execution_count": 9,
   "metadata": {},
   "outputs": [
    {
     "data": {
      "text/html": [
       "<div>\n",
       "<style scoped>\n",
       "    .dataframe tbody tr th:only-of-type {\n",
       "        vertical-align: middle;\n",
       "    }\n",
       "\n",
       "    .dataframe tbody tr th {\n",
       "        vertical-align: top;\n",
       "    }\n",
       "\n",
       "    .dataframe thead th {\n",
       "        text-align: right;\n",
       "    }\n",
       "</style>\n",
       "<table border=\"1\" class=\"dataframe\">\n",
       "  <thead>\n",
       "    <tr style=\"text-align: right;\">\n",
       "      <th></th>\n",
       "      <th>Date</th>\n",
       "      <th>Open</th>\n",
       "      <th>High</th>\n",
       "      <th>Low</th>\n",
       "      <th>Close</th>\n",
       "      <th>Volume</th>\n",
       "      <th>Name</th>\n",
       "    </tr>\n",
       "  </thead>\n",
       "  <tbody>\n",
       "    <tr>\n",
       "      <th>0</th>\n",
       "      <td>2006-01-03</td>\n",
       "      <td>77.76</td>\n",
       "      <td>79.35</td>\n",
       "      <td>77.24</td>\n",
       "      <td>79.11</td>\n",
       "      <td>3117200</td>\n",
       "      <td>MMM</td>\n",
       "    </tr>\n",
       "    <tr>\n",
       "      <th>1</th>\n",
       "      <td>2006-01-04</td>\n",
       "      <td>79.49</td>\n",
       "      <td>79.49</td>\n",
       "      <td>78.25</td>\n",
       "      <td>78.71</td>\n",
       "      <td>2558000</td>\n",
       "      <td>MMM</td>\n",
       "    </tr>\n",
       "    <tr>\n",
       "      <th>2</th>\n",
       "      <td>2006-01-05</td>\n",
       "      <td>78.41</td>\n",
       "      <td>78.65</td>\n",
       "      <td>77.56</td>\n",
       "      <td>77.99</td>\n",
       "      <td>2529500</td>\n",
       "      <td>MMM</td>\n",
       "    </tr>\n",
       "    <tr>\n",
       "      <th>3</th>\n",
       "      <td>2006-01-06</td>\n",
       "      <td>78.64</td>\n",
       "      <td>78.90</td>\n",
       "      <td>77.64</td>\n",
       "      <td>78.63</td>\n",
       "      <td>2479500</td>\n",
       "      <td>MMM</td>\n",
       "    </tr>\n",
       "    <tr>\n",
       "      <th>4</th>\n",
       "      <td>2006-01-09</td>\n",
       "      <td>78.50</td>\n",
       "      <td>79.83</td>\n",
       "      <td>78.46</td>\n",
       "      <td>79.02</td>\n",
       "      <td>1845600</td>\n",
       "      <td>MMM</td>\n",
       "    </tr>\n",
       "  </tbody>\n",
       "</table>\n",
       "</div>"
      ],
      "text/plain": [
       "<div>\n",
       "<style scoped>\n",
       "    .dataframe tbody tr th:only-of-type {\n",
       "        vertical-align: middle;\n",
       "    }\n",
       "\n",
       "    .dataframe tbody tr th {\n",
       "        vertical-align: top;\n",
       "    }\n",
       "\n",
       "    .dataframe thead th {\n",
       "        text-align: right;\n",
       "    }\n",
       "</style>\n",
       "<table border=\"1\" class=\"dataframe\">\n",
       "  <thead>\n",
       "    <tr style=\"text-align: right;\">\n",
       "      <th></th>\n",
       "      <th>Date</th>\n",
       "      <th>Open</th>\n",
       "      <th>High</th>\n",
       "      <th>Low</th>\n",
       "      <th>Close</th>\n",
       "      <th>Volume</th>\n",
       "      <th>Name</th>\n",
       "    </tr>\n",
       "  </thead>\n",
       "  <tbody>\n",
       "    <tr>\n",
       "      <th>0</th>\n",
       "      <td>2006-01-03</td>\n",
       "      <td>77.76</td>\n",
       "      <td>79.35</td>\n",
       "      <td>77.24</td>\n",
       "      <td>79.11</td>\n",
       "      <td>3117200</td>\n",
       "      <td>MMM</td>\n",
       "    </tr>\n",
       "    <tr>\n",
       "      <th>1</th>\n",
       "      <td>2006-01-04</td>\n",
       "      <td>79.49</td>\n",
       "      <td>79.49</td>\n",
       "      <td>78.25</td>\n",
       "      <td>78.71</td>\n",
       "      <td>2558000</td>\n",
       "      <td>MMM</td>\n",
       "    </tr>\n",
       "    <tr>\n",
       "      <th>2</th>\n",
       "      <td>2006-01-05</td>\n",
       "      <td>78.41</td>\n",
       "      <td>78.65</td>\n",
       "      <td>77.56</td>\n",
       "      <td>77.99</td>\n",
       "      <td>2529500</td>\n",
       "      <td>MMM</td>\n",
       "    </tr>\n",
       "    <tr>\n",
       "      <th>3</th>\n",
       "      <td>2006-01-06</td>\n",
       "      <td>78.64</td>\n",
       "      <td>78.90</td>\n",
       "      <td>77.64</td>\n",
       "      <td>78.63</td>\n",
       "      <td>2479500</td>\n",
       "      <td>MMM</td>\n",
       "    </tr>\n",
       "    <tr>\n",
       "      <th>4</th>\n",
       "      <td>2006-01-09</td>\n",
       "      <td>78.50</td>\n",
       "      <td>79.83</td>\n",
       "      <td>78.46</td>\n",
       "      <td>79.02</td>\n",
       "      <td>1845600</td>\n",
       "      <td>MMM</td>\n",
       "    </tr>\n",
       "  </tbody>\n",
       "</table>\n",
       "</div>"
      ]
     },
     "execution_count": 9,
     "metadata": {},
     "output_type": "execute_result"
    }
   ],
   "source": [
    "df.head()"
   ]
  },
  {
   "cell_type": "markdown",
   "metadata": {},
   "source": [
    "Date - Date for which the price is given\n",
    "Open - Price of the stock at market open (In USD)\n",
    "High - Highest price reached in the day\n",
    "Low - Lowest price reached in the day\n",
    "Close - Closing price for the day\n",
    "Volume - Number of shares traded -Name` - the stock's ticker name"
   ]
  },
  {
   "cell_type": "code",
   "execution_count": 10,
   "metadata": {},
   "outputs": [],
   "source": [
    "df = pd.read_csv('../Datasets/djia/all_stocks_2006-01-01_to_2018-01-01.csv', parse_dates=['Date'])"
   ]
  },
  {
   "cell_type": "code",
   "execution_count": 11,
   "metadata": {},
   "outputs": [
    {
     "name": "stdout",
     "output_type": "stream",
     "text": [
      "<class 'pandas.core.frame.DataFrame'>\nRangeIndex: 93612 entries, 0 to 93611\nData columns (total 7 columns):\nDate      93612 non-null datetime64[ns]\nOpen      93587 non-null float64\nHigh      93602 non-null float64\nLow       93592 non-null float64\nClose     93612 non-null float64\nVolume    93612 non-null int64\nName      93612 non-null object\ndtypes: datetime64[ns](1), float64(4), int64(1), object(1)\nmemory usage: 5.0+ MB\n"
     ]
    }
   ],
   "source": [
    "df.info()"
   ]
  },
  {
   "cell_type": "code",
   "execution_count": 12,
   "metadata": {},
   "outputs": [],
   "source": [
    "df.Date = pd.to_datetime(df.Date)"
   ]
  },
  {
   "cell_type": "code",
   "execution_count": 13,
   "metadata": {},
   "outputs": [
    {
     "data": {
      "text/html": [
       "<div>\n",
       "<style scoped>\n",
       "    .dataframe tbody tr th:only-of-type {\n",
       "        vertical-align: middle;\n",
       "    }\n",
       "\n",
       "    .dataframe tbody tr th {\n",
       "        vertical-align: top;\n",
       "    }\n",
       "\n",
       "    .dataframe thead th {\n",
       "        text-align: right;\n",
       "    }\n",
       "</style>\n",
       "<table border=\"1\" class=\"dataframe\">\n",
       "  <thead>\n",
       "    <tr style=\"text-align: right;\">\n",
       "      <th></th>\n",
       "      <th>Open</th>\n",
       "      <th>High</th>\n",
       "      <th>Low</th>\n",
       "      <th>Close</th>\n",
       "      <th>Volume</th>\n",
       "    </tr>\n",
       "  </thead>\n",
       "  <tbody>\n",
       "    <tr>\n",
       "      <th>count</th>\n",
       "      <td>93587.00</td>\n",
       "      <td>93602.00</td>\n",
       "      <td>93592.00</td>\n",
       "      <td>93612.00</td>\n",
       "      <td>93612.00</td>\n",
       "    </tr>\n",
       "    <tr>\n",
       "      <th>mean</th>\n",
       "      <td>85.62</td>\n",
       "      <td>86.39</td>\n",
       "      <td>84.84</td>\n",
       "      <td>85.64</td>\n",
       "      <td>20156670.14</td>\n",
       "    </tr>\n",
       "    <tr>\n",
       "      <th>std</th>\n",
       "      <td>108.15</td>\n",
       "      <td>108.96</td>\n",
       "      <td>107.23</td>\n",
       "      <td>108.12</td>\n",
       "      <td>34421077.71</td>\n",
       "    </tr>\n",
       "    <tr>\n",
       "      <th>min</th>\n",
       "      <td>6.75</td>\n",
       "      <td>7.17</td>\n",
       "      <td>0.00</td>\n",
       "      <td>6.66</td>\n",
       "      <td>0.00</td>\n",
       "    </tr>\n",
       "    <tr>\n",
       "      <th>25%</th>\n",
       "      <td>33.95</td>\n",
       "      <td>34.29</td>\n",
       "      <td>33.60</td>\n",
       "      <td>33.96</td>\n",
       "      <td>5040180.50</td>\n",
       "    </tr>\n",
       "    <tr>\n",
       "      <th>50%</th>\n",
       "      <td>60.04</td>\n",
       "      <td>60.63</td>\n",
       "      <td>59.49</td>\n",
       "      <td>60.05</td>\n",
       "      <td>9701141.50</td>\n",
       "    </tr>\n",
       "    <tr>\n",
       "      <th>75%</th>\n",
       "      <td>94.00</td>\n",
       "      <td>94.74</td>\n",
       "      <td>93.25</td>\n",
       "      <td>94.01</td>\n",
       "      <td>20752221.50</td>\n",
       "    </tr>\n",
       "    <tr>\n",
       "      <th>max</th>\n",
       "      <td>1204.88</td>\n",
       "      <td>1213.41</td>\n",
       "      <td>1191.15</td>\n",
       "      <td>1195.83</td>\n",
       "      <td>843264044.00</td>\n",
       "    </tr>\n",
       "  </tbody>\n",
       "</table>\n",
       "</div>"
      ],
      "text/plain": [
       "<div>\n",
       "<style scoped>\n",
       "    .dataframe tbody tr th:only-of-type {\n",
       "        vertical-align: middle;\n",
       "    }\n",
       "\n",
       "    .dataframe tbody tr th {\n",
       "        vertical-align: top;\n",
       "    }\n",
       "\n",
       "    .dataframe thead th {\n",
       "        text-align: right;\n",
       "    }\n",
       "</style>\n",
       "<table border=\"1\" class=\"dataframe\">\n",
       "  <thead>\n",
       "    <tr style=\"text-align: right;\">\n",
       "      <th></th>\n",
       "      <th>Open</th>\n",
       "      <th>High</th>\n",
       "      <th>Low</th>\n",
       "      <th>Close</th>\n",
       "      <th>Volume</th>\n",
       "    </tr>\n",
       "  </thead>\n",
       "  <tbody>\n",
       "    <tr>\n",
       "      <th>count</th>\n",
       "      <td>93587.00</td>\n",
       "      <td>93602.00</td>\n",
       "      <td>93592.00</td>\n",
       "      <td>93612.00</td>\n",
       "      <td>93612.00</td>\n",
       "    </tr>\n",
       "    <tr>\n",
       "      <th>mean</th>\n",
       "      <td>85.62</td>\n",
       "      <td>86.39</td>\n",
       "      <td>84.84</td>\n",
       "      <td>85.64</td>\n",
       "      <td>20156670.14</td>\n",
       "    </tr>\n",
       "    <tr>\n",
       "      <th>std</th>\n",
       "      <td>108.15</td>\n",
       "      <td>108.96</td>\n",
       "      <td>107.23</td>\n",
       "      <td>108.12</td>\n",
       "      <td>34421077.71</td>\n",
       "    </tr>\n",
       "    <tr>\n",
       "      <th>min</th>\n",
       "      <td>6.75</td>\n",
       "      <td>7.17</td>\n",
       "      <td>0.00</td>\n",
       "      <td>6.66</td>\n",
       "      <td>0.00</td>\n",
       "    </tr>\n",
       "    <tr>\n",
       "      <th>25%</th>\n",
       "      <td>33.95</td>\n",
       "      <td>34.29</td>\n",
       "      <td>33.60</td>\n",
       "      <td>33.96</td>\n",
       "      <td>5040180.50</td>\n",
       "    </tr>\n",
       "    <tr>\n",
       "      <th>50%</th>\n",
       "      <td>60.04</td>\n",
       "      <td>60.63</td>\n",
       "      <td>59.49</td>\n",
       "      <td>60.05</td>\n",
       "      <td>9701141.50</td>\n",
       "    </tr>\n",
       "    <tr>\n",
       "      <th>75%</th>\n",
       "      <td>94.00</td>\n",
       "      <td>94.74</td>\n",
       "      <td>93.25</td>\n",
       "      <td>94.01</td>\n",
       "      <td>20752221.50</td>\n",
       "    </tr>\n",
       "    <tr>\n",
       "      <th>max</th>\n",
       "      <td>1204.88</td>\n",
       "      <td>1213.41</td>\n",
       "      <td>1191.15</td>\n",
       "      <td>1195.83</td>\n",
       "      <td>843264044.00</td>\n",
       "    </tr>\n",
       "  </tbody>\n",
       "</table>\n",
       "</div>"
      ]
     },
     "execution_count": 13,
     "metadata": {},
     "output_type": "execute_result"
    }
   ],
   "source": [
    "df.describe()"
   ]
  },
  {
   "cell_type": "markdown",
   "metadata": {},
   "source": [
    "The dataset has some missing values. We will analyze this and see how to fix it."
   ]
  },
  {
   "cell_type": "code",
   "execution_count": 14,
   "metadata": {},
   "outputs": [
    {
     "data": {
      "text/plain": [
       "Date       0\nOpen      25\nHigh      10\nLow       20\nClose      0\nVolume     0\nName       0\ndtype: int64"
      ]
     },
     "execution_count": 14,
     "metadata": {},
     "output_type": "execute_result"
    }
   ],
   "source": [
    "df.isnull().sum()"
   ]
  },
  {
   "cell_type": "markdown",
   "metadata": {},
   "source": [
    "The Open column has the maximum number of null values. Let's find the rows for which the values are missing."
   ]
  },
  {
   "cell_type": "code",
   "execution_count": 15,
   "metadata": {},
   "outputs": [
    {
     "data": {
      "text/html": [
       "<div>\n",
       "<style scoped>\n",
       "    .dataframe tbody tr th:only-of-type {\n",
       "        vertical-align: middle;\n",
       "    }\n",
       "\n",
       "    .dataframe tbody tr th {\n",
       "        vertical-align: top;\n",
       "    }\n",
       "\n",
       "    .dataframe thead th {\n",
       "        text-align: right;\n",
       "    }\n",
       "</style>\n",
       "<table border=\"1\" class=\"dataframe\">\n",
       "  <thead>\n",
       "    <tr style=\"text-align: right;\">\n",
       "      <th></th>\n",
       "      <th>Date</th>\n",
       "      <th>Open</th>\n",
       "      <th>High</th>\n",
       "      <th>Low</th>\n",
       "      <th>Close</th>\n",
       "      <th>Volume</th>\n",
       "      <th>Name</th>\n",
       "    </tr>\n",
       "  </thead>\n",
       "  <tbody>\n",
       "    <tr>\n",
       "      <th>2913</th>\n",
       "      <td>2017-07-31</td>\n",
       "      <td>nan</td>\n",
       "      <td>201.66</td>\n",
       "      <td>nan</td>\n",
       "      <td>201.17</td>\n",
       "      <td>1833625</td>\n",
       "      <td>MMM</td>\n",
       "    </tr>\n",
       "    <tr>\n",
       "      <th>5933</th>\n",
       "      <td>2017-07-31</td>\n",
       "      <td>nan</td>\n",
       "      <td>85.70</td>\n",
       "      <td>nan</td>\n",
       "      <td>85.23</td>\n",
       "      <td>3079797</td>\n",
       "      <td>AXP</td>\n",
       "    </tr>\n",
       "    <tr>\n",
       "      <th>11972</th>\n",
       "      <td>2017-07-31</td>\n",
       "      <td>nan</td>\n",
       "      <td>nan</td>\n",
       "      <td>nan</td>\n",
       "      <td>242.46</td>\n",
       "      <td>5777271</td>\n",
       "      <td>BA</td>\n",
       "    </tr>\n",
       "    <tr>\n",
       "      <th>14992</th>\n",
       "      <td>2017-07-31</td>\n",
       "      <td>nan</td>\n",
       "      <td>nan</td>\n",
       "      <td>nan</td>\n",
       "      <td>113.95</td>\n",
       "      <td>4486013</td>\n",
       "      <td>CAT</td>\n",
       "    </tr>\n",
       "    <tr>\n",
       "      <th>18012</th>\n",
       "      <td>2017-07-31</td>\n",
       "      <td>nan</td>\n",
       "      <td>110.00</td>\n",
       "      <td>nan</td>\n",
       "      <td>109.19</td>\n",
       "      <td>7561205</td>\n",
       "      <td>CVX</td>\n",
       "    </tr>\n",
       "    <tr>\n",
       "      <th>24051</th>\n",
       "      <td>2017-07-31</td>\n",
       "      <td>nan</td>\n",
       "      <td>nan</td>\n",
       "      <td>45.79</td>\n",
       "      <td>45.84</td>\n",
       "      <td>13622891</td>\n",
       "      <td>KO</td>\n",
       "    </tr>\n",
       "    <tr>\n",
       "      <th>25815</th>\n",
       "      <td>2012-08-01</td>\n",
       "      <td>nan</td>\n",
       "      <td>nan</td>\n",
       "      <td>nan</td>\n",
       "      <td>49.14</td>\n",
       "      <td>0</td>\n",
       "      <td>DIS</td>\n",
       "    </tr>\n",
       "    <tr>\n",
       "      <th>27071</th>\n",
       "      <td>2017-07-31</td>\n",
       "      <td>nan</td>\n",
       "      <td>110.14</td>\n",
       "      <td>nan</td>\n",
       "      <td>109.93</td>\n",
       "      <td>6815349</td>\n",
       "      <td>DIS</td>\n",
       "    </tr>\n",
       "    <tr>\n",
       "      <th>30091</th>\n",
       "      <td>2017-07-31</td>\n",
       "      <td>nan</td>\n",
       "      <td>80.39</td>\n",
       "      <td>nan</td>\n",
       "      <td>80.04</td>\n",
       "      <td>12820175</td>\n",
       "      <td>XOM</td>\n",
       "    </tr>\n",
       "    <tr>\n",
       "      <th>33111</th>\n",
       "      <td>2017-07-31</td>\n",
       "      <td>nan</td>\n",
       "      <td>25.69</td>\n",
       "      <td>nan</td>\n",
       "      <td>25.61</td>\n",
       "      <td>30616287</td>\n",
       "      <td>GE</td>\n",
       "    </tr>\n",
       "    <tr>\n",
       "      <th>36131</th>\n",
       "      <td>2017-07-31</td>\n",
       "      <td>nan</td>\n",
       "      <td>225.50</td>\n",
       "      <td>nan</td>\n",
       "      <td>225.33</td>\n",
       "      <td>1999637</td>\n",
       "      <td>GS</td>\n",
       "    </tr>\n",
       "    <tr>\n",
       "      <th>39151</th>\n",
       "      <td>2017-07-31</td>\n",
       "      <td>nan</td>\n",
       "      <td>149.98</td>\n",
       "      <td>nan</td>\n",
       "      <td>149.60</td>\n",
       "      <td>5253318</td>\n",
       "      <td>HD</td>\n",
       "    </tr>\n",
       "    <tr>\n",
       "      <th>42171</th>\n",
       "      <td>2017-07-31</td>\n",
       "      <td>nan</td>\n",
       "      <td>144.93</td>\n",
       "      <td>nan</td>\n",
       "      <td>144.67</td>\n",
       "      <td>4355718</td>\n",
       "      <td>IBM</td>\n",
       "    </tr>\n",
       "    <tr>\n",
       "      <th>48210</th>\n",
       "      <td>2017-07-31</td>\n",
       "      <td>nan</td>\n",
       "      <td>133.58</td>\n",
       "      <td>nan</td>\n",
       "      <td>132.72</td>\n",
       "      <td>5440788</td>\n",
       "      <td>JNJ</td>\n",
       "    </tr>\n",
       "    <tr>\n",
       "      <th>51230</th>\n",
       "      <td>2017-07-31</td>\n",
       "      <td>nan</td>\n",
       "      <td>92.36</td>\n",
       "      <td>nan</td>\n",
       "      <td>91.80</td>\n",
       "      <td>11520329</td>\n",
       "      <td>JPM</td>\n",
       "    </tr>\n",
       "    <tr>\n",
       "      <th>54250</th>\n",
       "      <td>2017-07-31</td>\n",
       "      <td>nan</td>\n",
       "      <td>nan</td>\n",
       "      <td>154.85</td>\n",
       "      <td>155.14</td>\n",
       "      <td>4280364</td>\n",
       "      <td>MCD</td>\n",
       "    </tr>\n",
       "    <tr>\n",
       "      <th>57269</th>\n",
       "      <td>2017-07-31</td>\n",
       "      <td>nan</td>\n",
       "      <td>nan</td>\n",
       "      <td>63.51</td>\n",
       "      <td>63.88</td>\n",
       "      <td>11714888</td>\n",
       "      <td>MRK</td>\n",
       "    </tr>\n",
       "    <tr>\n",
       "      <th>63308</th>\n",
       "      <td>2017-07-31</td>\n",
       "      <td>nan</td>\n",
       "      <td>59.12</td>\n",
       "      <td>58.33</td>\n",
       "      <td>59.05</td>\n",
       "      <td>6225907</td>\n",
       "      <td>NKE</td>\n",
       "    </tr>\n",
       "    <tr>\n",
       "      <th>66328</th>\n",
       "      <td>2017-07-31</td>\n",
       "      <td>nan</td>\n",
       "      <td>nan</td>\n",
       "      <td>nan</td>\n",
       "      <td>33.16</td>\n",
       "      <td>21982573</td>\n",
       "      <td>PFE</td>\n",
       "    </tr>\n",
       "    <tr>\n",
       "      <th>69348</th>\n",
       "      <td>2017-07-31</td>\n",
       "      <td>nan</td>\n",
       "      <td>91.07</td>\n",
       "      <td>nan</td>\n",
       "      <td>90.82</td>\n",
       "      <td>7835661</td>\n",
       "      <td>PG</td>\n",
       "    </tr>\n",
       "    <tr>\n",
       "      <th>72368</th>\n",
       "      <td>2017-07-31</td>\n",
       "      <td>nan</td>\n",
       "      <td>nan</td>\n",
       "      <td>nan</td>\n",
       "      <td>128.09</td>\n",
       "      <td>1077258</td>\n",
       "      <td>TRV</td>\n",
       "    </tr>\n",
       "    <tr>\n",
       "      <th>75388</th>\n",
       "      <td>2017-07-31</td>\n",
       "      <td>nan</td>\n",
       "      <td>119.34</td>\n",
       "      <td>118.44</td>\n",
       "      <td>118.57</td>\n",
       "      <td>2172327</td>\n",
       "      <td>UTX</td>\n",
       "    </tr>\n",
       "    <tr>\n",
       "      <th>78408</th>\n",
       "      <td>2017-07-31</td>\n",
       "      <td>nan</td>\n",
       "      <td>nan</td>\n",
       "      <td>nan</td>\n",
       "      <td>191.81</td>\n",
       "      <td>3776476</td>\n",
       "      <td>UNH</td>\n",
       "    </tr>\n",
       "    <tr>\n",
       "      <th>81428</th>\n",
       "      <td>2017-07-31</td>\n",
       "      <td>nan</td>\n",
       "      <td>48.57</td>\n",
       "      <td>nan</td>\n",
       "      <td>48.40</td>\n",
       "      <td>28456827</td>\n",
       "      <td>VZ</td>\n",
       "    </tr>\n",
       "    <tr>\n",
       "      <th>84448</th>\n",
       "      <td>2017-07-31</td>\n",
       "      <td>nan</td>\n",
       "      <td>nan</td>\n",
       "      <td>nan</td>\n",
       "      <td>79.99</td>\n",
       "      <td>6263189</td>\n",
       "      <td>WMT</td>\n",
       "    </tr>\n",
       "  </tbody>\n",
       "</table>\n",
       "</div>"
      ],
      "text/plain": [
       "<div>\n",
       "<style scoped>\n",
       "    .dataframe tbody tr th:only-of-type {\n",
       "        vertical-align: middle;\n",
       "    }\n",
       "\n",
       "    .dataframe tbody tr th {\n",
       "        vertical-align: top;\n",
       "    }\n",
       "\n",
       "    .dataframe thead th {\n",
       "        text-align: right;\n",
       "    }\n",
       "</style>\n",
       "<table border=\"1\" class=\"dataframe\">\n",
       "  <thead>\n",
       "    <tr style=\"text-align: right;\">\n",
       "      <th></th>\n",
       "      <th>Date</th>\n",
       "      <th>Open</th>\n",
       "      <th>High</th>\n",
       "      <th>Low</th>\n",
       "      <th>Close</th>\n",
       "      <th>Volume</th>\n",
       "      <th>Name</th>\n",
       "    </tr>\n",
       "  </thead>\n",
       "  <tbody>\n",
       "    <tr>\n",
       "      <th>2913</th>\n",
       "      <td>2017-07-31</td>\n",
       "      <td>nan</td>\n",
       "      <td>201.66</td>\n",
       "      <td>nan</td>\n",
       "      <td>201.17</td>\n",
       "      <td>1833625</td>\n",
       "      <td>MMM</td>\n",
       "    </tr>\n",
       "    <tr>\n",
       "      <th>5933</th>\n",
       "      <td>2017-07-31</td>\n",
       "      <td>nan</td>\n",
       "      <td>85.70</td>\n",
       "      <td>nan</td>\n",
       "      <td>85.23</td>\n",
       "      <td>3079797</td>\n",
       "      <td>AXP</td>\n",
       "    </tr>\n",
       "    <tr>\n",
       "      <th>11972</th>\n",
       "      <td>2017-07-31</td>\n",
       "      <td>nan</td>\n",
       "      <td>nan</td>\n",
       "      <td>nan</td>\n",
       "      <td>242.46</td>\n",
       "      <td>5777271</td>\n",
       "      <td>BA</td>\n",
       "    </tr>\n",
       "    <tr>\n",
       "      <th>14992</th>\n",
       "      <td>2017-07-31</td>\n",
       "      <td>nan</td>\n",
       "      <td>nan</td>\n",
       "      <td>nan</td>\n",
       "      <td>113.95</td>\n",
       "      <td>4486013</td>\n",
       "      <td>CAT</td>\n",
       "    </tr>\n",
       "    <tr>\n",
       "      <th>18012</th>\n",
       "      <td>2017-07-31</td>\n",
       "      <td>nan</td>\n",
       "      <td>110.00</td>\n",
       "      <td>nan</td>\n",
       "      <td>109.19</td>\n",
       "      <td>7561205</td>\n",
       "      <td>CVX</td>\n",
       "    </tr>\n",
       "    <tr>\n",
       "      <th>24051</th>\n",
       "      <td>2017-07-31</td>\n",
       "      <td>nan</td>\n",
       "      <td>nan</td>\n",
       "      <td>45.79</td>\n",
       "      <td>45.84</td>\n",
       "      <td>13622891</td>\n",
       "      <td>KO</td>\n",
       "    </tr>\n",
       "    <tr>\n",
       "      <th>25815</th>\n",
       "      <td>2012-08-01</td>\n",
       "      <td>nan</td>\n",
       "      <td>nan</td>\n",
       "      <td>nan</td>\n",
       "      <td>49.14</td>\n",
       "      <td>0</td>\n",
       "      <td>DIS</td>\n",
       "    </tr>\n",
       "    <tr>\n",
       "      <th>27071</th>\n",
       "      <td>2017-07-31</td>\n",
       "      <td>nan</td>\n",
       "      <td>110.14</td>\n",
       "      <td>nan</td>\n",
       "      <td>109.93</td>\n",
       "      <td>6815349</td>\n",
       "      <td>DIS</td>\n",
       "    </tr>\n",
       "    <tr>\n",
       "      <th>30091</th>\n",
       "      <td>2017-07-31</td>\n",
       "      <td>nan</td>\n",
       "      <td>80.39</td>\n",
       "      <td>nan</td>\n",
       "      <td>80.04</td>\n",
       "      <td>12820175</td>\n",
       "      <td>XOM</td>\n",
       "    </tr>\n",
       "    <tr>\n",
       "      <th>33111</th>\n",
       "      <td>2017-07-31</td>\n",
       "      <td>nan</td>\n",
       "      <td>25.69</td>\n",
       "      <td>nan</td>\n",
       "      <td>25.61</td>\n",
       "      <td>30616287</td>\n",
       "      <td>GE</td>\n",
       "    </tr>\n",
       "    <tr>\n",
       "      <th>36131</th>\n",
       "      <td>2017-07-31</td>\n",
       "      <td>nan</td>\n",
       "      <td>225.50</td>\n",
       "      <td>nan</td>\n",
       "      <td>225.33</td>\n",
       "      <td>1999637</td>\n",
       "      <td>GS</td>\n",
       "    </tr>\n",
       "    <tr>\n",
       "      <th>39151</th>\n",
       "      <td>2017-07-31</td>\n",
       "      <td>nan</td>\n",
       "      <td>149.98</td>\n",
       "      <td>nan</td>\n",
       "      <td>149.60</td>\n",
       "      <td>5253318</td>\n",
       "      <td>HD</td>\n",
       "    </tr>\n",
       "    <tr>\n",
       "      <th>42171</th>\n",
       "      <td>2017-07-31</td>\n",
       "      <td>nan</td>\n",
       "      <td>144.93</td>\n",
       "      <td>nan</td>\n",
       "      <td>144.67</td>\n",
       "      <td>4355718</td>\n",
       "      <td>IBM</td>\n",
       "    </tr>\n",
       "    <tr>\n",
       "      <th>48210</th>\n",
       "      <td>2017-07-31</td>\n",
       "      <td>nan</td>\n",
       "      <td>133.58</td>\n",
       "      <td>nan</td>\n",
       "      <td>132.72</td>\n",
       "      <td>5440788</td>\n",
       "      <td>JNJ</td>\n",
       "    </tr>\n",
       "    <tr>\n",
       "      <th>51230</th>\n",
       "      <td>2017-07-31</td>\n",
       "      <td>nan</td>\n",
       "      <td>92.36</td>\n",
       "      <td>nan</td>\n",
       "      <td>91.80</td>\n",
       "      <td>11520329</td>\n",
       "      <td>JPM</td>\n",
       "    </tr>\n",
       "    <tr>\n",
       "      <th>54250</th>\n",
       "      <td>2017-07-31</td>\n",
       "      <td>nan</td>\n",
       "      <td>nan</td>\n",
       "      <td>154.85</td>\n",
       "      <td>155.14</td>\n",
       "      <td>4280364</td>\n",
       "      <td>MCD</td>\n",
       "    </tr>\n",
       "    <tr>\n",
       "      <th>57269</th>\n",
       "      <td>2017-07-31</td>\n",
       "      <td>nan</td>\n",
       "      <td>nan</td>\n",
       "      <td>63.51</td>\n",
       "      <td>63.88</td>\n",
       "      <td>11714888</td>\n",
       "      <td>MRK</td>\n",
       "    </tr>\n",
       "    <tr>\n",
       "      <th>63308</th>\n",
       "      <td>2017-07-31</td>\n",
       "      <td>nan</td>\n",
       "      <td>59.12</td>\n",
       "      <td>58.33</td>\n",
       "      <td>59.05</td>\n",
       "      <td>6225907</td>\n",
       "      <td>NKE</td>\n",
       "    </tr>\n",
       "    <tr>\n",
       "      <th>66328</th>\n",
       "      <td>2017-07-31</td>\n",
       "      <td>nan</td>\n",
       "      <td>nan</td>\n",
       "      <td>nan</td>\n",
       "      <td>33.16</td>\n",
       "      <td>21982573</td>\n",
       "      <td>PFE</td>\n",
       "    </tr>\n",
       "    <tr>\n",
       "      <th>69348</th>\n",
       "      <td>2017-07-31</td>\n",
       "      <td>nan</td>\n",
       "      <td>91.07</td>\n",
       "      <td>nan</td>\n",
       "      <td>90.82</td>\n",
       "      <td>7835661</td>\n",
       "      <td>PG</td>\n",
       "    </tr>\n",
       "    <tr>\n",
       "      <th>72368</th>\n",
       "      <td>2017-07-31</td>\n",
       "      <td>nan</td>\n",
       "      <td>nan</td>\n",
       "      <td>nan</td>\n",
       "      <td>128.09</td>\n",
       "      <td>1077258</td>\n",
       "      <td>TRV</td>\n",
       "    </tr>\n",
       "    <tr>\n",
       "      <th>75388</th>\n",
       "      <td>2017-07-31</td>\n",
       "      <td>nan</td>\n",
       "      <td>119.34</td>\n",
       "      <td>118.44</td>\n",
       "      <td>118.57</td>\n",
       "      <td>2172327</td>\n",
       "      <td>UTX</td>\n",
       "    </tr>\n",
       "    <tr>\n",
       "      <th>78408</th>\n",
       "      <td>2017-07-31</td>\n",
       "      <td>nan</td>\n",
       "      <td>nan</td>\n",
       "      <td>nan</td>\n",
       "      <td>191.81</td>\n",
       "      <td>3776476</td>\n",
       "      <td>UNH</td>\n",
       "    </tr>\n",
       "    <tr>\n",
       "      <th>81428</th>\n",
       "      <td>2017-07-31</td>\n",
       "      <td>nan</td>\n",
       "      <td>48.57</td>\n",
       "      <td>nan</td>\n",
       "      <td>48.40</td>\n",
       "      <td>28456827</td>\n",
       "      <td>VZ</td>\n",
       "    </tr>\n",
       "    <tr>\n",
       "      <th>84448</th>\n",
       "      <td>2017-07-31</td>\n",
       "      <td>nan</td>\n",
       "      <td>nan</td>\n",
       "      <td>nan</td>\n",
       "      <td>79.99</td>\n",
       "      <td>6263189</td>\n",
       "      <td>WMT</td>\n",
       "    </tr>\n",
       "  </tbody>\n",
       "</table>\n",
       "</div>"
      ]
     },
     "execution_count": 15,
     "metadata": {},
     "output_type": "execute_result"
    }
   ],
   "source": [
    "df[df.Open.isnull()]"
   ]
  },
  {
   "cell_type": "markdown",
   "metadata": {},
   "source": [
    "The data is missing only for 31 July, 2017. This could be because:"
   ]
  },
  {
   "cell_type": "markdown",
   "metadata": {},
   "source": [
    "Let's check the number of business days for which the records as missing."
   ]
  },
  {
   "cell_type": "code",
   "execution_count": 16,
   "metadata": {},
   "outputs": [
    {
     "data": {
      "text/plain": [
       "DatetimeIndex(['2006-01-02', '2006-01-16', '2006-02-20', '2006-04-14',\n               '2006-05-29', '2006-07-04', '2006-09-04', '2006-11-23',\n               '2006-12-25', '2007-01-01',\n               ...\n               '2017-01-02', '2017-01-16', '2017-02-20', '2017-04-14',\n               '2017-05-29', '2017-07-04', '2017-09-04', '2017-11-23',\n               '2017-12-25', '2018-01-01'],\n              dtype='datetime64[ns]', length=111, freq=None)"
      ]
     },
     "execution_count": 16,
     "metadata": {},
     "output_type": "execute_result"
    }
   ],
   "source": [
    "rng = pd.date_range(start='2006-01-01', end='2018-01-01', freq='B')\n",
    "rng[~rng.isin(df.Date.unique())]"
   ]
  },
  {
   "cell_type": "markdown",
   "metadata": {},
   "source": [
    "There are about 111 days for which the stock price data is missing. This could lead to potential problems with the analysis."
   ]
  },
  {
   "cell_type": "code",
   "execution_count": 17,
   "metadata": {},
   "outputs": [
    {
     "data": {
      "text/plain": [
       "Name\nJNJ      3020\nJPM      3020\nWMT      3020\nVZ       3020\nUTX      3020\nUNH      3020\nTRV      3020\nPG       3020\nPFE      3020\nNKE      3020\nMMM      3020\nMCD      3020\nKO       3020\nXOM      3020\nGE       3020\nIBM      3020\nHD       3020\nGS       3020\nAXP      3020\nBA       3020\nCAT      3020\nDIS      3020\nCVX      3020\nCSCO     3019\nAMZN     3019\nINTC     3019\nAAPL     3019\nMSFT     3019\nMRK      3019\nGOOGL    3019\nAABA     3019\nName: Date, dtype: int64"
      ]
     },
     "execution_count": 17,
     "metadata": {},
     "output_type": "execute_result"
    }
   ],
   "source": [
    "df.groupby('Name').count().sort_values('Date', ascending=False)['Date']"
   ]
  },
  {
   "cell_type": "code",
   "execution_count": 18,
   "metadata": {},
   "outputs": [],
   "source": [
    "gdf = df[df.Name == 'AABA']\n",
    "cdf = df[df.Name == 'CAT']"
   ]
  },
  {
   "cell_type": "code",
   "execution_count": 19,
   "metadata": {},
   "outputs": [
    {
     "data": {
      "text/html": [
       "<div>\n",
       "<style scoped>\n",
       "    .dataframe tbody tr th:only-of-type {\n",
       "        vertical-align: middle;\n",
       "    }\n",
       "\n",
       "    .dataframe tbody tr th {\n",
       "        vertical-align: top;\n",
       "    }\n",
       "\n",
       "    .dataframe thead th {\n",
       "        text-align: right;\n",
       "    }\n",
       "</style>\n",
       "<table border=\"1\" class=\"dataframe\">\n",
       "  <thead>\n",
       "    <tr style=\"text-align: right;\">\n",
       "      <th></th>\n",
       "      <th>Date</th>\n",
       "      <th>Open</th>\n",
       "      <th>High</th>\n",
       "      <th>Low</th>\n",
       "      <th>Close</th>\n",
       "      <th>Volume</th>\n",
       "      <th>Name</th>\n",
       "    </tr>\n",
       "  </thead>\n",
       "  <tbody>\n",
       "    <tr>\n",
       "      <th>13147</th>\n",
       "      <td>2010-04-01</td>\n",
       "      <td>63.29</td>\n",
       "      <td>64.20</td>\n",
       "      <td>63.29</td>\n",
       "      <td>63.99</td>\n",
       "      <td>7830447</td>\n",
       "      <td>CAT</td>\n",
       "    </tr>\n",
       "  </tbody>\n",
       "</table>\n",
       "</div>"
      ],
      "text/plain": [
       "<div>\n",
       "<style scoped>\n",
       "    .dataframe tbody tr th:only-of-type {\n",
       "        vertical-align: middle;\n",
       "    }\n",
       "\n",
       "    .dataframe tbody tr th {\n",
       "        vertical-align: top;\n",
       "    }\n",
       "\n",
       "    .dataframe thead th {\n",
       "        text-align: right;\n",
       "    }\n",
       "</style>\n",
       "<table border=\"1\" class=\"dataframe\">\n",
       "  <thead>\n",
       "    <tr style=\"text-align: right;\">\n",
       "      <th></th>\n",
       "      <th>Date</th>\n",
       "      <th>Open</th>\n",
       "      <th>High</th>\n",
       "      <th>Low</th>\n",
       "      <th>Close</th>\n",
       "      <th>Volume</th>\n",
       "      <th>Name</th>\n",
       "    </tr>\n",
       "  </thead>\n",
       "  <tbody>\n",
       "    <tr>\n",
       "      <th>13147</th>\n",
       "      <td>2010-04-01</td>\n",
       "      <td>63.29</td>\n",
       "      <td>64.20</td>\n",
       "      <td>63.29</td>\n",
       "      <td>63.99</td>\n",
       "      <td>7830447</td>\n",
       "      <td>CAT</td>\n",
       "    </tr>\n",
       "  </tbody>\n",
       "</table>\n",
       "</div>"
      ]
     },
     "execution_count": 19,
     "metadata": {},
     "output_type": "execute_result"
    }
   ],
   "source": [
    "cdf[~cdf.Date.isin(gdf.Date)]"
   ]
  },
  {
   "cell_type": "markdown",
   "metadata": {},
   "source": [
    "Let's check if all the listed companies have an entry on each date."
   ]
  },
  {
   "cell_type": "code",
   "execution_count": 20,
   "metadata": {},
   "outputs": [
    {
     "data": {
      "text/plain": [
       "31"
      ]
     },
     "execution_count": 20,
     "metadata": {},
     "output_type": "execute_result"
    }
   ],
   "source": [
    "# Total number of companies\n",
    "df.Name.unique().size"
   ]
  },
  {
   "cell_type": "code",
   "execution_count": 21,
   "metadata": {},
   "outputs": [
    {
     "data": {
      "text/plain": [
       "Date\n2006-01-03    31\n2006-01-04    31\n2006-01-05    31\n2006-01-06    31\n2006-01-09    31\n2006-01-10    31\n2006-01-11    31\n2006-01-12    31\n2006-01-13    31\n2006-01-17    31\n2006-01-18    31\n2006-01-19    31\n2006-01-20    31\n2006-01-23    31\n2006-01-24    31\n2006-01-25    31\n2006-01-26    31\n2006-01-27    31\n2006-01-30    31\n2006-01-31    31\n2006-02-01    31\n2006-02-02    31\n2006-02-03    31\n2006-02-06    31\n2006-02-07    31\n2006-02-08    31\n2006-02-09    31\n2006-02-10    31\n2006-02-13    31\n2006-02-14    31\n              ..\n2017-11-16    31\n2017-11-17    31\n2017-11-20    31\n2017-11-21    31\n2017-11-22    31\n2017-11-24    31\n2017-11-27    31\n2017-11-28    31\n2017-11-29    31\n2017-11-30    31\n2017-12-01    31\n2017-12-04    31\n2017-12-05    31\n2017-12-06    31\n2017-12-07    31\n2017-12-08    31\n2017-12-11    31\n2017-12-12    31\n2017-12-13    31\n2017-12-14    31\n2017-12-15    31\n2017-12-18    31\n2017-12-19    31\n2017-12-20    31\n2017-12-21    31\n2017-12-22    31\n2017-12-26    31\n2017-12-27    31\n2017-12-28    31\n2017-12-29    31\nName: Name, Length: 3020, dtype: int64"
      ]
     },
     "execution_count": 21,
     "metadata": {},
     "output_type": "execute_result"
    }
   ],
   "source": [
    "df.groupby('Date').Name.unique().apply(len)"
   ]
  },
  {
   "cell_type": "markdown",
   "metadata": {},
   "source": [
    "This confirms that each company had a stock price entry on each day."
   ]
  },
  {
   "cell_type": "heading",
   "metadata": {},
   "level": 1,
   "source": [
    "Data Cleaning"
   ]
  },
  {
   "cell_type": "markdown",
   "metadata": {},
   "source": [
    "Let us first fill in the null values on date 31 july, 2017 with the values from the previous day(i.e 28th July, 2017)"
   ]
  },
  {
   "cell_type": "code",
   "execution_count": 22,
   "metadata": {},
   "outputs": [],
   "source": [
    "df.set_index('Date', inplace=True)\n",
    "\n",
    "#Backfill `Open` column\n",
    "values = np.where(df['2017-07-31']['Open'].isnull(), df['2017-07-28']['Open'], df['2017-07-31']['Open'])\n",
    "df['2017-07-31']= df['2017-07-31'].assign(Open=values.tolist())\n",
    "\n",
    "values = np.where(df['2017-07-31']['Close'].isnull(), df['2017-07-28']['Close'], df['2017-07-31']['Close'])\n",
    "df['2017-07-31']= df['2017-07-31'].assign(Close=values.tolist())\n",
    "\n",
    "values = np.where(df['2017-07-31']['High'].isnull(), df['2017-07-28']['High'], df['2017-07-31']['High'])\n",
    "df['2017-07-31']= df['2017-07-31'].assign(High=values.tolist())\n",
    "\n",
    "values = np.where(df['2017-07-31']['Low'].isnull(), df['2017-07-28']['Low'], df['2017-07-31']['Low'])\n",
    "df['2017-07-31']= df['2017-07-31'].assign(Low=values.tolist())\n",
    "\n",
    "df.reset_index(inplace=True)"
   ]
  },
  {
   "cell_type": "code",
   "execution_count": 23,
   "metadata": {},
   "outputs": [
    {
     "data": {
      "text/html": [
       "<div>\n",
       "<style scoped>\n",
       "    .dataframe tbody tr th:only-of-type {\n",
       "        vertical-align: middle;\n",
       "    }\n",
       "\n",
       "    .dataframe tbody tr th {\n",
       "        vertical-align: top;\n",
       "    }\n",
       "\n",
       "    .dataframe thead th {\n",
       "        text-align: right;\n",
       "    }\n",
       "</style>\n",
       "<table border=\"1\" class=\"dataframe\">\n",
       "  <thead>\n",
       "    <tr style=\"text-align: right;\">\n",
       "      <th></th>\n",
       "      <th>Date</th>\n",
       "      <th>Open</th>\n",
       "      <th>High</th>\n",
       "      <th>Low</th>\n",
       "      <th>Close</th>\n",
       "      <th>Volume</th>\n",
       "      <th>Name</th>\n",
       "    </tr>\n",
       "  </thead>\n",
       "  <tbody>\n",
       "    <tr>\n",
       "      <th>2913</th>\n",
       "      <td>2017-07-31</td>\n",
       "      <td>200.79</td>\n",
       "      <td>201.66</td>\n",
       "      <td>198.69</td>\n",
       "      <td>201.17</td>\n",
       "      <td>1833625</td>\n",
       "      <td>MMM</td>\n",
       "    </tr>\n",
       "    <tr>\n",
       "      <th>5933</th>\n",
       "      <td>2017-07-31</td>\n",
       "      <td>83.88</td>\n",
       "      <td>85.70</td>\n",
       "      <td>83.62</td>\n",
       "      <td>85.23</td>\n",
       "      <td>3079797</td>\n",
       "      <td>AXP</td>\n",
       "    </tr>\n",
       "    <tr>\n",
       "      <th>8952</th>\n",
       "      <td>2017-07-31</td>\n",
       "      <td>149.90</td>\n",
       "      <td>150.33</td>\n",
       "      <td>148.13</td>\n",
       "      <td>148.73</td>\n",
       "      <td>19845920</td>\n",
       "      <td>AAPL</td>\n",
       "    </tr>\n",
       "    <tr>\n",
       "      <th>11972</th>\n",
       "      <td>2017-07-31</td>\n",
       "      <td>240.82</td>\n",
       "      <td>242.00</td>\n",
       "      <td>238.55</td>\n",
       "      <td>242.46</td>\n",
       "      <td>5777271</td>\n",
       "      <td>BA</td>\n",
       "    </tr>\n",
       "    <tr>\n",
       "      <th>14992</th>\n",
       "      <td>2017-07-31</td>\n",
       "      <td>114.45</td>\n",
       "      <td>114.90</td>\n",
       "      <td>113.48</td>\n",
       "      <td>113.95</td>\n",
       "      <td>4486013</td>\n",
       "      <td>CAT</td>\n",
       "    </tr>\n",
       "    <tr>\n",
       "      <th>18012</th>\n",
       "      <td>2017-07-31</td>\n",
       "      <td>106.71</td>\n",
       "      <td>110.00</td>\n",
       "      <td>106.36</td>\n",
       "      <td>109.19</td>\n",
       "      <td>7561205</td>\n",
       "      <td>CVX</td>\n",
       "    </tr>\n",
       "    <tr>\n",
       "      <th>21031</th>\n",
       "      <td>2017-07-31</td>\n",
       "      <td>31.54</td>\n",
       "      <td>31.59</td>\n",
       "      <td>31.37</td>\n",
       "      <td>31.45</td>\n",
       "      <td>19256428</td>\n",
       "      <td>CSCO</td>\n",
       "    </tr>\n",
       "    <tr>\n",
       "      <th>24051</th>\n",
       "      <td>2017-07-31</td>\n",
       "      <td>46.00</td>\n",
       "      <td>46.12</td>\n",
       "      <td>45.79</td>\n",
       "      <td>45.84</td>\n",
       "      <td>13622891</td>\n",
       "      <td>KO</td>\n",
       "    </tr>\n",
       "    <tr>\n",
       "      <th>27071</th>\n",
       "      <td>2017-07-31</td>\n",
       "      <td>109.98</td>\n",
       "      <td>110.14</td>\n",
       "      <td>109.66</td>\n",
       "      <td>109.93</td>\n",
       "      <td>6815349</td>\n",
       "      <td>DIS</td>\n",
       "    </tr>\n",
       "    <tr>\n",
       "      <th>30091</th>\n",
       "      <td>2017-07-31</td>\n",
       "      <td>79.65</td>\n",
       "      <td>80.39</td>\n",
       "      <td>78.27</td>\n",
       "      <td>80.04</td>\n",
       "      <td>12820175</td>\n",
       "      <td>XOM</td>\n",
       "    </tr>\n",
       "    <tr>\n",
       "      <th>33111</th>\n",
       "      <td>2017-07-31</td>\n",
       "      <td>25.86</td>\n",
       "      <td>25.69</td>\n",
       "      <td>25.40</td>\n",
       "      <td>25.61</td>\n",
       "      <td>30616287</td>\n",
       "      <td>GE</td>\n",
       "    </tr>\n",
       "    <tr>\n",
       "      <th>36131</th>\n",
       "      <td>2017-07-31</td>\n",
       "      <td>221.77</td>\n",
       "      <td>225.50</td>\n",
       "      <td>220.86</td>\n",
       "      <td>225.33</td>\n",
       "      <td>1999637</td>\n",
       "      <td>GS</td>\n",
       "    </tr>\n",
       "    <tr>\n",
       "      <th>39151</th>\n",
       "      <td>2017-07-31</td>\n",
       "      <td>147.90</td>\n",
       "      <td>149.98</td>\n",
       "      <td>147.32</td>\n",
       "      <td>149.60</td>\n",
       "      <td>5253318</td>\n",
       "      <td>HD</td>\n",
       "    </tr>\n",
       "    <tr>\n",
       "      <th>42171</th>\n",
       "      <td>2017-07-31</td>\n",
       "      <td>144.81</td>\n",
       "      <td>144.93</td>\n",
       "      <td>143.84</td>\n",
       "      <td>144.67</td>\n",
       "      <td>4355718</td>\n",
       "      <td>IBM</td>\n",
       "    </tr>\n",
       "    <tr>\n",
       "      <th>45190</th>\n",
       "      <td>2017-07-31</td>\n",
       "      <td>35.47</td>\n",
       "      <td>35.74</td>\n",
       "      <td>35.32</td>\n",
       "      <td>35.47</td>\n",
       "      <td>27056989</td>\n",
       "      <td>INTC</td>\n",
       "    </tr>\n",
       "    <tr>\n",
       "      <th>48210</th>\n",
       "      <td>2017-07-31</td>\n",
       "      <td>131.14</td>\n",
       "      <td>133.58</td>\n",
       "      <td>130.52</td>\n",
       "      <td>132.72</td>\n",
       "      <td>5440788</td>\n",
       "      <td>JNJ</td>\n",
       "    </tr>\n",
       "    <tr>\n",
       "      <th>51230</th>\n",
       "      <td>2017-07-31</td>\n",
       "      <td>91.45</td>\n",
       "      <td>92.36</td>\n",
       "      <td>90.90</td>\n",
       "      <td>91.80</td>\n",
       "      <td>11520329</td>\n",
       "      <td>JPM</td>\n",
       "    </tr>\n",
       "    <tr>\n",
       "      <th>54250</th>\n",
       "      <td>2017-07-31</td>\n",
       "      <td>156.36</td>\n",
       "      <td>156.66</td>\n",
       "      <td>154.85</td>\n",
       "      <td>155.14</td>\n",
       "      <td>4280364</td>\n",
       "      <td>MCD</td>\n",
       "    </tr>\n",
       "    <tr>\n",
       "      <th>57269</th>\n",
       "      <td>2017-07-31</td>\n",
       "      <td>63.81</td>\n",
       "      <td>64.36</td>\n",
       "      <td>63.51</td>\n",
       "      <td>63.88</td>\n",
       "      <td>11714888</td>\n",
       "      <td>MRK</td>\n",
       "    </tr>\n",
       "    <tr>\n",
       "      <th>60288</th>\n",
       "      <td>2017-07-31</td>\n",
       "      <td>73.30</td>\n",
       "      <td>73.44</td>\n",
       "      <td>72.41</td>\n",
       "      <td>72.70</td>\n",
       "      <td>23600054</td>\n",
       "      <td>MSFT</td>\n",
       "    </tr>\n",
       "    <tr>\n",
       "      <th>63308</th>\n",
       "      <td>2017-07-31</td>\n",
       "      <td>58.15</td>\n",
       "      <td>59.12</td>\n",
       "      <td>58.33</td>\n",
       "      <td>59.05</td>\n",
       "      <td>6225907</td>\n",
       "      <td>NKE</td>\n",
       "    </tr>\n",
       "    <tr>\n",
       "      <th>66328</th>\n",
       "      <td>2017-07-31</td>\n",
       "      <td>33.06</td>\n",
       "      <td>33.17</td>\n",
       "      <td>32.81</td>\n",
       "      <td>33.16</td>\n",
       "      <td>21982573</td>\n",
       "      <td>PFE</td>\n",
       "    </tr>\n",
       "    <tr>\n",
       "      <th>69348</th>\n",
       "      <td>2017-07-31</td>\n",
       "      <td>90.56</td>\n",
       "      <td>91.07</td>\n",
       "      <td>89.96</td>\n",
       "      <td>90.82</td>\n",
       "      <td>7835661</td>\n",
       "      <td>PG</td>\n",
       "    </tr>\n",
       "    <tr>\n",
       "      <th>72368</th>\n",
       "      <td>2017-07-31</td>\n",
       "      <td>126.11</td>\n",
       "      <td>127.47</td>\n",
       "      <td>125.72</td>\n",
       "      <td>128.09</td>\n",
       "      <td>1077258</td>\n",
       "      <td>TRV</td>\n",
       "    </tr>\n",
       "    <tr>\n",
       "      <th>75388</th>\n",
       "      <td>2017-07-31</td>\n",
       "      <td>118.79</td>\n",
       "      <td>119.34</td>\n",
       "      <td>118.44</td>\n",
       "      <td>118.57</td>\n",
       "      <td>2172327</td>\n",
       "      <td>UTX</td>\n",
       "    </tr>\n",
       "    <tr>\n",
       "      <th>78408</th>\n",
       "      <td>2017-07-31</td>\n",
       "      <td>189.11</td>\n",
       "      <td>191.24</td>\n",
       "      <td>187.60</td>\n",
       "      <td>191.81</td>\n",
       "      <td>3776476</td>\n",
       "      <td>UNH</td>\n",
       "    </tr>\n",
       "    <tr>\n",
       "      <th>81428</th>\n",
       "      <td>2017-07-31</td>\n",
       "      <td>47.70</td>\n",
       "      <td>48.57</td>\n",
       "      <td>47.12</td>\n",
       "      <td>48.40</td>\n",
       "      <td>28456827</td>\n",
       "      <td>VZ</td>\n",
       "    </tr>\n",
       "    <tr>\n",
       "      <th>84448</th>\n",
       "      <td>2017-07-31</td>\n",
       "      <td>79.80</td>\n",
       "      <td>79.96</td>\n",
       "      <td>79.54</td>\n",
       "      <td>79.99</td>\n",
       "      <td>6263189</td>\n",
       "      <td>WMT</td>\n",
       "    </tr>\n",
       "    <tr>\n",
       "      <th>87467</th>\n",
       "      <td>2017-07-31</td>\n",
       "      <td>960.00</td>\n",
       "      <td>961.19</td>\n",
       "      <td>941.72</td>\n",
       "      <td>945.50</td>\n",
       "      <td>2293389</td>\n",
       "      <td>GOOGL</td>\n",
       "    </tr>\n",
       "    <tr>\n",
       "      <th>90486</th>\n",
       "      <td>2017-07-31</td>\n",
       "      <td>1019.05</td>\n",
       "      <td>1019.05</td>\n",
       "      <td>987.02</td>\n",
       "      <td>987.78</td>\n",
       "      <td>7352063</td>\n",
       "      <td>AMZN</td>\n",
       "    </tr>\n",
       "    <tr>\n",
       "      <th>93505</th>\n",
       "      <td>2017-07-31</td>\n",
       "      <td>59.70</td>\n",
       "      <td>59.89</td>\n",
       "      <td>58.07</td>\n",
       "      <td>58.40</td>\n",
       "      <td>6738130</td>\n",
       "      <td>AABA</td>\n",
       "    </tr>\n",
       "  </tbody>\n",
       "</table>\n",
       "</div>"
      ],
      "text/plain": [
       "<div>\n",
       "<style scoped>\n",
       "    .dataframe tbody tr th:only-of-type {\n",
       "        vertical-align: middle;\n",
       "    }\n",
       "\n",
       "    .dataframe tbody tr th {\n",
       "        vertical-align: top;\n",
       "    }\n",
       "\n",
       "    .dataframe thead th {\n",
       "        text-align: right;\n",
       "    }\n",
       "</style>\n",
       "<table border=\"1\" class=\"dataframe\">\n",
       "  <thead>\n",
       "    <tr style=\"text-align: right;\">\n",
       "      <th></th>\n",
       "      <th>Date</th>\n",
       "      <th>Open</th>\n",
       "      <th>High</th>\n",
       "      <th>Low</th>\n",
       "      <th>Close</th>\n",
       "      <th>Volume</th>\n",
       "      <th>Name</th>\n",
       "    </tr>\n",
       "  </thead>\n",
       "  <tbody>\n",
       "    <tr>\n",
       "      <th>2913</th>\n",
       "      <td>2017-07-31</td>\n",
       "      <td>200.79</td>\n",
       "      <td>201.66</td>\n",
       "      <td>198.69</td>\n",
       "      <td>201.17</td>\n",
       "      <td>1833625</td>\n",
       "      <td>MMM</td>\n",
       "    </tr>\n",
       "    <tr>\n",
       "      <th>5933</th>\n",
       "      <td>2017-07-31</td>\n",
       "      <td>83.88</td>\n",
       "      <td>85.70</td>\n",
       "      <td>83.62</td>\n",
       "      <td>85.23</td>\n",
       "      <td>3079797</td>\n",
       "      <td>AXP</td>\n",
       "    </tr>\n",
       "    <tr>\n",
       "      <th>8952</th>\n",
       "      <td>2017-07-31</td>\n",
       "      <td>149.90</td>\n",
       "      <td>150.33</td>\n",
       "      <td>148.13</td>\n",
       "      <td>148.73</td>\n",
       "      <td>19845920</td>\n",
       "      <td>AAPL</td>\n",
       "    </tr>\n",
       "    <tr>\n",
       "      <th>11972</th>\n",
       "      <td>2017-07-31</td>\n",
       "      <td>240.82</td>\n",
       "      <td>242.00</td>\n",
       "      <td>238.55</td>\n",
       "      <td>242.46</td>\n",
       "      <td>5777271</td>\n",
       "      <td>BA</td>\n",
       "    </tr>\n",
       "    <tr>\n",
       "      <th>14992</th>\n",
       "      <td>2017-07-31</td>\n",
       "      <td>114.45</td>\n",
       "      <td>114.90</td>\n",
       "      <td>113.48</td>\n",
       "      <td>113.95</td>\n",
       "      <td>4486013</td>\n",
       "      <td>CAT</td>\n",
       "    </tr>\n",
       "    <tr>\n",
       "      <th>18012</th>\n",
       "      <td>2017-07-31</td>\n",
       "      <td>106.71</td>\n",
       "      <td>110.00</td>\n",
       "      <td>106.36</td>\n",
       "      <td>109.19</td>\n",
       "      <td>7561205</td>\n",
       "      <td>CVX</td>\n",
       "    </tr>\n",
       "    <tr>\n",
       "      <th>21031</th>\n",
       "      <td>2017-07-31</td>\n",
       "      <td>31.54</td>\n",
       "      <td>31.59</td>\n",
       "      <td>31.37</td>\n",
       "      <td>31.45</td>\n",
       "      <td>19256428</td>\n",
       "      <td>CSCO</td>\n",
       "    </tr>\n",
       "    <tr>\n",
       "      <th>24051</th>\n",
       "      <td>2017-07-31</td>\n",
       "      <td>46.00</td>\n",
       "      <td>46.12</td>\n",
       "      <td>45.79</td>\n",
       "      <td>45.84</td>\n",
       "      <td>13622891</td>\n",
       "      <td>KO</td>\n",
       "    </tr>\n",
       "    <tr>\n",
       "      <th>27071</th>\n",
       "      <td>2017-07-31</td>\n",
       "      <td>109.98</td>\n",
       "      <td>110.14</td>\n",
       "      <td>109.66</td>\n",
       "      <td>109.93</td>\n",
       "      <td>6815349</td>\n",
       "      <td>DIS</td>\n",
       "    </tr>\n",
       "    <tr>\n",
       "      <th>30091</th>\n",
       "      <td>2017-07-31</td>\n",
       "      <td>79.65</td>\n",
       "      <td>80.39</td>\n",
       "      <td>78.27</td>\n",
       "      <td>80.04</td>\n",
       "      <td>12820175</td>\n",
       "      <td>XOM</td>\n",
       "    </tr>\n",
       "    <tr>\n",
       "      <th>33111</th>\n",
       "      <td>2017-07-31</td>\n",
       "      <td>25.86</td>\n",
       "      <td>25.69</td>\n",
       "      <td>25.40</td>\n",
       "      <td>25.61</td>\n",
       "      <td>30616287</td>\n",
       "      <td>GE</td>\n",
       "    </tr>\n",
       "    <tr>\n",
       "      <th>36131</th>\n",
       "      <td>2017-07-31</td>\n",
       "      <td>221.77</td>\n",
       "      <td>225.50</td>\n",
       "      <td>220.86</td>\n",
       "      <td>225.33</td>\n",
       "      <td>1999637</td>\n",
       "      <td>GS</td>\n",
       "    </tr>\n",
       "    <tr>\n",
       "      <th>39151</th>\n",
       "      <td>2017-07-31</td>\n",
       "      <td>147.90</td>\n",
       "      <td>149.98</td>\n",
       "      <td>147.32</td>\n",
       "      <td>149.60</td>\n",
       "      <td>5253318</td>\n",
       "      <td>HD</td>\n",
       "    </tr>\n",
       "    <tr>\n",
       "      <th>42171</th>\n",
       "      <td>2017-07-31</td>\n",
       "      <td>144.81</td>\n",
       "      <td>144.93</td>\n",
       "      <td>143.84</td>\n",
       "      <td>144.67</td>\n",
       "      <td>4355718</td>\n",
       "      <td>IBM</td>\n",
       "    </tr>\n",
       "    <tr>\n",
       "      <th>45190</th>\n",
       "      <td>2017-07-31</td>\n",
       "      <td>35.47</td>\n",
       "      <td>35.74</td>\n",
       "      <td>35.32</td>\n",
       "      <td>35.47</td>\n",
       "      <td>27056989</td>\n",
       "      <td>INTC</td>\n",
       "    </tr>\n",
       "    <tr>\n",
       "      <th>48210</th>\n",
       "      <td>2017-07-31</td>\n",
       "      <td>131.14</td>\n",
       "      <td>133.58</td>\n",
       "      <td>130.52</td>\n",
       "      <td>132.72</td>\n",
       "      <td>5440788</td>\n",
       "      <td>JNJ</td>\n",
       "    </tr>\n",
       "    <tr>\n",
       "      <th>51230</th>\n",
       "      <td>2017-07-31</td>\n",
       "      <td>91.45</td>\n",
       "      <td>92.36</td>\n",
       "      <td>90.90</td>\n",
       "      <td>91.80</td>\n",
       "      <td>11520329</td>\n",
       "      <td>JPM</td>\n",
       "    </tr>\n",
       "    <tr>\n",
       "      <th>54250</th>\n",
       "      <td>2017-07-31</td>\n",
       "      <td>156.36</td>\n",
       "      <td>156.66</td>\n",
       "      <td>154.85</td>\n",
       "      <td>155.14</td>\n",
       "      <td>4280364</td>\n",
       "      <td>MCD</td>\n",
       "    </tr>\n",
       "    <tr>\n",
       "      <th>57269</th>\n",
       "      <td>2017-07-31</td>\n",
       "      <td>63.81</td>\n",
       "      <td>64.36</td>\n",
       "      <td>63.51</td>\n",
       "      <td>63.88</td>\n",
       "      <td>11714888</td>\n",
       "      <td>MRK</td>\n",
       "    </tr>\n",
       "    <tr>\n",
       "      <th>60288</th>\n",
       "      <td>2017-07-31</td>\n",
       "      <td>73.30</td>\n",
       "      <td>73.44</td>\n",
       "      <td>72.41</td>\n",
       "      <td>72.70</td>\n",
       "      <td>23600054</td>\n",
       "      <td>MSFT</td>\n",
       "    </tr>\n",
       "    <tr>\n",
       "      <th>63308</th>\n",
       "      <td>2017-07-31</td>\n",
       "      <td>58.15</td>\n",
       "      <td>59.12</td>\n",
       "      <td>58.33</td>\n",
       "      <td>59.05</td>\n",
       "      <td>6225907</td>\n",
       "      <td>NKE</td>\n",
       "    </tr>\n",
       "    <tr>\n",
       "      <th>66328</th>\n",
       "      <td>2017-07-31</td>\n",
       "      <td>33.06</td>\n",
       "      <td>33.17</td>\n",
       "      <td>32.81</td>\n",
       "      <td>33.16</td>\n",
       "      <td>21982573</td>\n",
       "      <td>PFE</td>\n",
       "    </tr>\n",
       "    <tr>\n",
       "      <th>69348</th>\n",
       "      <td>2017-07-31</td>\n",
       "      <td>90.56</td>\n",
       "      <td>91.07</td>\n",
       "      <td>89.96</td>\n",
       "      <td>90.82</td>\n",
       "      <td>7835661</td>\n",
       "      <td>PG</td>\n",
       "    </tr>\n",
       "    <tr>\n",
       "      <th>72368</th>\n",
       "      <td>2017-07-31</td>\n",
       "      <td>126.11</td>\n",
       "      <td>127.47</td>\n",
       "      <td>125.72</td>\n",
       "      <td>128.09</td>\n",
       "      <td>1077258</td>\n",
       "      <td>TRV</td>\n",
       "    </tr>\n",
       "    <tr>\n",
       "      <th>75388</th>\n",
       "      <td>2017-07-31</td>\n",
       "      <td>118.79</td>\n",
       "      <td>119.34</td>\n",
       "      <td>118.44</td>\n",
       "      <td>118.57</td>\n",
       "      <td>2172327</td>\n",
       "      <td>UTX</td>\n",
       "    </tr>\n",
       "    <tr>\n",
       "      <th>78408</th>\n",
       "      <td>2017-07-31</td>\n",
       "      <td>189.11</td>\n",
       "      <td>191.24</td>\n",
       "      <td>187.60</td>\n",
       "      <td>191.81</td>\n",
       "      <td>3776476</td>\n",
       "      <td>UNH</td>\n",
       "    </tr>\n",
       "    <tr>\n",
       "      <th>81428</th>\n",
       "      <td>2017-07-31</td>\n",
       "      <td>47.70</td>\n",
       "      <td>48.57</td>\n",
       "      <td>47.12</td>\n",
       "      <td>48.40</td>\n",
       "      <td>28456827</td>\n",
       "      <td>VZ</td>\n",
       "    </tr>\n",
       "    <tr>\n",
       "      <th>84448</th>\n",
       "      <td>2017-07-31</td>\n",
       "      <td>79.80</td>\n",
       "      <td>79.96</td>\n",
       "      <td>79.54</td>\n",
       "      <td>79.99</td>\n",
       "      <td>6263189</td>\n",
       "      <td>WMT</td>\n",
       "    </tr>\n",
       "    <tr>\n",
       "      <th>87467</th>\n",
       "      <td>2017-07-31</td>\n",
       "      <td>960.00</td>\n",
       "      <td>961.19</td>\n",
       "      <td>941.72</td>\n",
       "      <td>945.50</td>\n",
       "      <td>2293389</td>\n",
       "      <td>GOOGL</td>\n",
       "    </tr>\n",
       "    <tr>\n",
       "      <th>90486</th>\n",
       "      <td>2017-07-31</td>\n",
       "      <td>1019.05</td>\n",
       "      <td>1019.05</td>\n",
       "      <td>987.02</td>\n",
       "      <td>987.78</td>\n",
       "      <td>7352063</td>\n",
       "      <td>AMZN</td>\n",
       "    </tr>\n",
       "    <tr>\n",
       "      <th>93505</th>\n",
       "      <td>2017-07-31</td>\n",
       "      <td>59.70</td>\n",
       "      <td>59.89</td>\n",
       "      <td>58.07</td>\n",
       "      <td>58.40</td>\n",
       "      <td>6738130</td>\n",
       "      <td>AABA</td>\n",
       "    </tr>\n",
       "  </tbody>\n",
       "</table>\n",
       "</div>"
      ]
     },
     "execution_count": 23,
     "metadata": {},
     "output_type": "execute_result"
    }
   ],
   "source": [
    "df[df.Date == '2017-07-31']"
   ]
  },
  {
   "cell_type": "markdown",
   "metadata": {},
   "source": [
    "We can confirm that the backfill has worked as expected."
   ]
  },
  {
   "cell_type": "markdown",
   "metadata": {},
   "source": [
    "Simlarly, we noticed that 8 of the 31 stocks have missing data on 1st April, 2014. As done before, we will use the stock prices of the previous day to fill the data."
   ]
  },
  {
   "cell_type": "code",
   "execution_count": 25,
   "metadata": {},
   "outputs": [],
   "source": [
    "missing_data_stocks = ['CSCO','AMZN','INTC','AAPL','MSFT','MRK','GOOGL', 'AABA']"
   ]
  },
  {
   "cell_type": "code",
   "execution_count": 26,
   "metadata": {},
   "outputs": [],
   "source": [
    "columns = df.columns.values"
   ]
  },
  {
   "cell_type": "code",
   "execution_count": 27,
   "metadata": {},
   "outputs": [
    {
     "name": "stdout",
     "output_type": "stream",
     "text": [
      "Complete\n"
     ]
    }
   ],
   "source": [
    "for stock in missing_data_stocks:\n",
    "    tdf = df[(df.Name == stock) & (df.Date == '2014-03-28')].copy()\n",
    "    tdf.Date = '2014-04-01'\n",
    "    pd.concat([df, tdf])\n",
    "print(\"Complete\")"
   ]
  },
  {
   "cell_type": "markdown",
   "metadata": {},
   "source": [
    "Let's check if the backfill worked as expected."
   ]
  },
  {
   "cell_type": "code",
   "execution_count": 28,
   "metadata": {},
   "outputs": [
    {
     "data": {
      "text/html": [
       "<div>\n",
       "<style scoped>\n",
       "    .dataframe tbody tr th:only-of-type {\n",
       "        vertical-align: middle;\n",
       "    }\n",
       "\n",
       "    .dataframe tbody tr th {\n",
       "        vertical-align: top;\n",
       "    }\n",
       "\n",
       "    .dataframe thead th {\n",
       "        text-align: right;\n",
       "    }\n",
       "</style>\n",
       "<table border=\"1\" class=\"dataframe\">\n",
       "  <thead>\n",
       "    <tr style=\"text-align: right;\">\n",
       "      <th></th>\n",
       "      <th>Date</th>\n",
       "      <th>Open</th>\n",
       "      <th>High</th>\n",
       "      <th>Low</th>\n",
       "      <th>Close</th>\n",
       "      <th>Volume</th>\n",
       "      <th>Name</th>\n",
       "    </tr>\n",
       "  </thead>\n",
       "  <tbody>\n",
       "    <tr>\n",
       "      <th>20192</th>\n",
       "      <td>2014-04-01</td>\n",
       "      <td>22.33</td>\n",
       "      <td>23.31</td>\n",
       "      <td>22.30</td>\n",
       "      <td>23.10</td>\n",
       "      <td>80113826</td>\n",
       "      <td>CSCO</td>\n",
       "    </tr>\n",
       "  </tbody>\n",
       "</table>\n",
       "</div>"
      ],
      "text/plain": [
       "<div>\n",
       "<style scoped>\n",
       "    .dataframe tbody tr th:only-of-type {\n",
       "        vertical-align: middle;\n",
       "    }\n",
       "\n",
       "    .dataframe tbody tr th {\n",
       "        vertical-align: top;\n",
       "    }\n",
       "\n",
       "    .dataframe thead th {\n",
       "        text-align: right;\n",
       "    }\n",
       "</style>\n",
       "<table border=\"1\" class=\"dataframe\">\n",
       "  <thead>\n",
       "    <tr style=\"text-align: right;\">\n",
       "      <th></th>\n",
       "      <th>Date</th>\n",
       "      <th>Open</th>\n",
       "      <th>High</th>\n",
       "      <th>Low</th>\n",
       "      <th>Close</th>\n",
       "      <th>Volume</th>\n",
       "      <th>Name</th>\n",
       "    </tr>\n",
       "  </thead>\n",
       "  <tbody>\n",
       "    <tr>\n",
       "      <th>20192</th>\n",
       "      <td>2014-04-01</td>\n",
       "      <td>22.33</td>\n",
       "      <td>23.31</td>\n",
       "      <td>22.30</td>\n",
       "      <td>23.10</td>\n",
       "      <td>80113826</td>\n",
       "      <td>CSCO</td>\n",
       "    </tr>\n",
       "  </tbody>\n",
       "</table>\n",
       "</div>"
      ]
     },
     "execution_count": 28,
     "metadata": {},
     "output_type": "execute_result"
    }
   ],
   "source": [
    "df[(df.Name == 'CSCO') & (df.Date == '2014-04-01')]"
   ]
  },
  {
   "cell_type": "markdown",
   "metadata": {},
   "source": [
    "Finally, there is just one more null record. We will drop that record."
   ]
  },
  {
   "cell_type": "code",
   "execution_count": 29,
   "metadata": {},
   "outputs": [
    {
     "data": {
      "text/html": [
       "<div>\n",
       "<style scoped>\n",
       "    .dataframe tbody tr th:only-of-type {\n",
       "        vertical-align: middle;\n",
       "    }\n",
       "\n",
       "    .dataframe tbody tr th {\n",
       "        vertical-align: top;\n",
       "    }\n",
       "\n",
       "    .dataframe thead th {\n",
       "        text-align: right;\n",
       "    }\n",
       "</style>\n",
       "<table border=\"1\" class=\"dataframe\">\n",
       "  <thead>\n",
       "    <tr style=\"text-align: right;\">\n",
       "      <th></th>\n",
       "      <th>Date</th>\n",
       "      <th>Open</th>\n",
       "      <th>High</th>\n",
       "      <th>Low</th>\n",
       "      <th>Close</th>\n",
       "      <th>Volume</th>\n",
       "      <th>Name</th>\n",
       "    </tr>\n",
       "  </thead>\n",
       "  <tbody>\n",
       "    <tr>\n",
       "      <th>25815</th>\n",
       "      <td>2012-08-01</td>\n",
       "      <td>nan</td>\n",
       "      <td>nan</td>\n",
       "      <td>nan</td>\n",
       "      <td>49.14</td>\n",
       "      <td>0</td>\n",
       "      <td>DIS</td>\n",
       "    </tr>\n",
       "  </tbody>\n",
       "</table>\n",
       "</div>"
      ],
      "text/plain": [
       "<div>\n",
       "<style scoped>\n",
       "    .dataframe tbody tr th:only-of-type {\n",
       "        vertical-align: middle;\n",
       "    }\n",
       "\n",
       "    .dataframe tbody tr th {\n",
       "        vertical-align: top;\n",
       "    }\n",
       "\n",
       "    .dataframe thead th {\n",
       "        text-align: right;\n",
       "    }\n",
       "</style>\n",
       "<table border=\"1\" class=\"dataframe\">\n",
       "  <thead>\n",
       "    <tr style=\"text-align: right;\">\n",
       "      <th></th>\n",
       "      <th>Date</th>\n",
       "      <th>Open</th>\n",
       "      <th>High</th>\n",
       "      <th>Low</th>\n",
       "      <th>Close</th>\n",
       "      <th>Volume</th>\n",
       "      <th>Name</th>\n",
       "    </tr>\n",
       "  </thead>\n",
       "  <tbody>\n",
       "    <tr>\n",
       "      <th>25815</th>\n",
       "      <td>2012-08-01</td>\n",
       "      <td>nan</td>\n",
       "      <td>nan</td>\n",
       "      <td>nan</td>\n",
       "      <td>49.14</td>\n",
       "      <td>0</td>\n",
       "      <td>DIS</td>\n",
       "    </tr>\n",
       "  </tbody>\n",
       "</table>\n",
       "</div>"
      ]
     },
     "execution_count": 29,
     "metadata": {},
     "output_type": "execute_result"
    }
   ],
   "source": [
    "df[df.Open.isnull()]"
   ]
  },
  {
   "cell_type": "code",
   "execution_count": 30,
   "metadata": {},
   "outputs": [],
   "source": [
    "df = df[~((df.Date == '2012-08-01') & (df.Name == 'DIS'))]"
   ]
  },
  {
   "cell_type": "markdown",
   "metadata": {},
   "source": [
    "Let's perform a quick sanity check for null values again."
   ]
  },
  {
   "cell_type": "code",
   "execution_count": 31,
   "metadata": {},
   "outputs": [
    {
     "data": {
      "text/plain": [
       "Date      0\nOpen      0\nHigh      0\nLow       0\nClose     0\nVolume    0\nName      0\ndtype: int64"
      ]
     },
     "execution_count": 31,
     "metadata": {},
     "output_type": "execute_result"
    }
   ],
   "source": [
    "df.isnull().sum()"
   ]
  },
  {
   "cell_type": "heading",
   "metadata": {},
   "level": 1,
   "source": [
    "Feature Engineering"
   ]
  },
  {
   "cell_type": "markdown",
   "metadata": {},
   "source": [
    "Since we have four values of stock price for each day, let's create a feature called Price which is the average of all these values.\n",
    "\n"
   ]
  },
  {
   "cell_type": "code",
   "execution_count": 32,
   "metadata": {},
   "outputs": [],
   "source": [
    "values = (df['High'] + df['Low'] + df['Open'] + df['Close'])/4\n",
    "df = df.assign(Price=values)"
   ]
  },
  {
   "cell_type": "code",
   "execution_count": 33,
   "metadata": {},
   "outputs": [
    {
     "data": {
      "text/html": [
       "<div>\n",
       "<style scoped>\n",
       "    .dataframe tbody tr th:only-of-type {\n",
       "        vertical-align: middle;\n",
       "    }\n",
       "\n",
       "    .dataframe tbody tr th {\n",
       "        vertical-align: top;\n",
       "    }\n",
       "\n",
       "    .dataframe thead th {\n",
       "        text-align: right;\n",
       "    }\n",
       "</style>\n",
       "<table border=\"1\" class=\"dataframe\">\n",
       "  <thead>\n",
       "    <tr style=\"text-align: right;\">\n",
       "      <th></th>\n",
       "      <th>Date</th>\n",
       "      <th>Open</th>\n",
       "      <th>High</th>\n",
       "      <th>Low</th>\n",
       "      <th>Close</th>\n",
       "      <th>Volume</th>\n",
       "      <th>Name</th>\n",
       "      <th>Price</th>\n",
       "    </tr>\n",
       "  </thead>\n",
       "  <tbody>\n",
       "    <tr>\n",
       "      <th>0</th>\n",
       "      <td>2006-01-03</td>\n",
       "      <td>77.76</td>\n",
       "      <td>79.35</td>\n",
       "      <td>77.24</td>\n",
       "      <td>79.11</td>\n",
       "      <td>3117200</td>\n",
       "      <td>MMM</td>\n",
       "      <td>78.36</td>\n",
       "    </tr>\n",
       "    <tr>\n",
       "      <th>1</th>\n",
       "      <td>2006-01-04</td>\n",
       "      <td>79.49</td>\n",
       "      <td>79.49</td>\n",
       "      <td>78.25</td>\n",
       "      <td>78.71</td>\n",
       "      <td>2558000</td>\n",
       "      <td>MMM</td>\n",
       "      <td>78.98</td>\n",
       "    </tr>\n",
       "    <tr>\n",
       "      <th>2</th>\n",
       "      <td>2006-01-05</td>\n",
       "      <td>78.41</td>\n",
       "      <td>78.65</td>\n",
       "      <td>77.56</td>\n",
       "      <td>77.99</td>\n",
       "      <td>2529500</td>\n",
       "      <td>MMM</td>\n",
       "      <td>78.15</td>\n",
       "    </tr>\n",
       "    <tr>\n",
       "      <th>3</th>\n",
       "      <td>2006-01-06</td>\n",
       "      <td>78.64</td>\n",
       "      <td>78.90</td>\n",
       "      <td>77.64</td>\n",
       "      <td>78.63</td>\n",
       "      <td>2479500</td>\n",
       "      <td>MMM</td>\n",
       "      <td>78.45</td>\n",
       "    </tr>\n",
       "    <tr>\n",
       "      <th>4</th>\n",
       "      <td>2006-01-09</td>\n",
       "      <td>78.50</td>\n",
       "      <td>79.83</td>\n",
       "      <td>78.46</td>\n",
       "      <td>79.02</td>\n",
       "      <td>1845600</td>\n",
       "      <td>MMM</td>\n",
       "      <td>78.95</td>\n",
       "    </tr>\n",
       "  </tbody>\n",
       "</table>\n",
       "</div>"
      ],
      "text/plain": [
       "<div>\n",
       "<style scoped>\n",
       "    .dataframe tbody tr th:only-of-type {\n",
       "        vertical-align: middle;\n",
       "    }\n",
       "\n",
       "    .dataframe tbody tr th {\n",
       "        vertical-align: top;\n",
       "    }\n",
       "\n",
       "    .dataframe thead th {\n",
       "        text-align: right;\n",
       "    }\n",
       "</style>\n",
       "<table border=\"1\" class=\"dataframe\">\n",
       "  <thead>\n",
       "    <tr style=\"text-align: right;\">\n",
       "      <th></th>\n",
       "      <th>Date</th>\n",
       "      <th>Open</th>\n",
       "      <th>High</th>\n",
       "      <th>Low</th>\n",
       "      <th>Close</th>\n",
       "      <th>Volume</th>\n",
       "      <th>Name</th>\n",
       "      <th>Price</th>\n",
       "    </tr>\n",
       "  </thead>\n",
       "  <tbody>\n",
       "    <tr>\n",
       "      <th>0</th>\n",
       "      <td>2006-01-03</td>\n",
       "      <td>77.76</td>\n",
       "      <td>79.35</td>\n",
       "      <td>77.24</td>\n",
       "      <td>79.11</td>\n",
       "      <td>3117200</td>\n",
       "      <td>MMM</td>\n",
       "      <td>78.36</td>\n",
       "    </tr>\n",
       "    <tr>\n",
       "      <th>1</th>\n",
       "      <td>2006-01-04</td>\n",
       "      <td>79.49</td>\n",
       "      <td>79.49</td>\n",
       "      <td>78.25</td>\n",
       "      <td>78.71</td>\n",
       "      <td>2558000</td>\n",
       "      <td>MMM</td>\n",
       "      <td>78.98</td>\n",
       "    </tr>\n",
       "    <tr>\n",
       "      <th>2</th>\n",
       "      <td>2006-01-05</td>\n",
       "      <td>78.41</td>\n",
       "      <td>78.65</td>\n",
       "      <td>77.56</td>\n",
       "      <td>77.99</td>\n",
       "      <td>2529500</td>\n",
       "      <td>MMM</td>\n",
       "      <td>78.15</td>\n",
       "    </tr>\n",
       "    <tr>\n",
       "      <th>3</th>\n",
       "      <td>2006-01-06</td>\n",
       "      <td>78.64</td>\n",
       "      <td>78.90</td>\n",
       "      <td>77.64</td>\n",
       "      <td>78.63</td>\n",
       "      <td>2479500</td>\n",
       "      <td>MMM</td>\n",
       "      <td>78.45</td>\n",
       "    </tr>\n",
       "    <tr>\n",
       "      <th>4</th>\n",
       "      <td>2006-01-09</td>\n",
       "      <td>78.50</td>\n",
       "      <td>79.83</td>\n",
       "      <td>78.46</td>\n",
       "      <td>79.02</td>\n",
       "      <td>1845600</td>\n",
       "      <td>MMM</td>\n",
       "      <td>78.95</td>\n",
       "    </tr>\n",
       "  </tbody>\n",
       "</table>\n",
       "</div>"
      ]
     },
     "execution_count": 33,
     "metadata": {},
     "output_type": "execute_result"
    }
   ],
   "source": [
    "df.head()"
   ]
  },
  {
   "cell_type": "code",
   "execution_count": 34,
   "metadata": {},
   "outputs": [
    {
     "data": {
      "text/plain": [
       "count   93611.00\nmean       85.63\nstd       108.11\nmin         6.73\n25%        33.95\n50%        60.07\n75%        94.00\nmax      1200.76\nName: Price, dtype: float64"
      ]
     },
     "execution_count": 34,
     "metadata": {},
     "output_type": "execute_result"
    }
   ],
   "source": [
    "df.Price.describe()"
   ]
  },
  {
   "cell_type": "markdown",
   "metadata": {},
   "source": [
    " Compute the daily growth of the stock prices compared to day 1 of the prices(i.e compute cumalative compound growth)"
   ]
  },
  {
   "cell_type": "code",
   "execution_count": 35,
   "metadata": {},
   "outputs": [],
   "source": [
    "stock_names = df.Name.unique()"
   ]
  },
  {
   "cell_type": "code",
   "execution_count": 36,
   "metadata": {},
   "outputs": [],
   "source": [
    "day_prices = df[df.Date == df.Date.min()].Price"
   ]
  },
  {
   "cell_type": "code",
   "execution_count": 37,
   "metadata": {},
   "outputs": [],
   "source": [
    "price_mapping = {n : c for n, c in zip(stock_names, day_prices)}"
   ]
  },
  {
   "cell_type": "code",
   "execution_count": 38,
   "metadata": {},
   "outputs": [],
   "source": [
    "base_mapping = np.array(list(map(lambda x : price_mapping[x], df['Name'].values)))"
   ]
  },
  {
   "cell_type": "code",
   "execution_count": 39,
   "metadata": {},
   "outputs": [],
   "source": [
    "df['Growth'] = df['Price'] / base_mapping - 1"
   ]
  },
  {
   "cell_type": "code",
   "execution_count": 40,
   "metadata": {},
   "outputs": [
    {
     "data": {
      "text/plain": [
       "count   93611.00\nmean        0.79\nstd         1.91\nmin        -0.81\n25%         0.04\n50%         0.34\n75%         0.82\nmax        24.39\nName: Growth, dtype: float64"
      ]
     },
     "execution_count": 40,
     "metadata": {},
     "output_type": "execute_result"
    }
   ],
   "source": [
    "df.Growth.describe()"
   ]
  },
  {
   "cell_type": "markdown",
   "metadata": {},
   "source": [
    "Inferences"
   ]
  },
  {
   "cell_type": "markdown",
   "metadata": {},
   "source": [
    "The worst performing company had a decline of 81% in their shares compared to their first ever opening price and the best company had a whopping 2439% increase in their share price."
   ]
  },
  {
   "cell_type": "heading",
   "metadata": {},
   "level": 1,
   "source": [
    "Time Series Analysis"
   ]
  },
  {
   "cell_type": "markdown",
   "metadata": {},
   "source": [
    "Let's find out the top 5 best and worst performing stocks!"
   ]
  },
  {
   "cell_type": "code",
   "execution_count": 41,
   "metadata": {},
   "outputs": [],
   "source": [
    "sample_dates = pd.date_range(start='2006-01-01', end='2018-01-01', freq='B')"
   ]
  },
  {
   "cell_type": "code",
   "execution_count": 42,
   "metadata": {},
   "outputs": [],
   "source": [
    "year_end_dates = sample_dates[sample_dates.is_year_end]"
   ]
  },
  {
   "cell_type": "code",
   "execution_count": 43,
   "metadata": {},
   "outputs": [
    {
     "data": {
      "text/plain": [
       "DatetimeIndex(['2006-12-29', '2007-12-31', '2008-12-31', '2009-12-31',\n               '2010-12-31', '2011-12-30', '2012-12-31', '2013-12-31',\n               '2014-12-31', '2015-12-31', '2016-12-30', '2017-12-29'],\n              dtype='datetime64[ns]', freq=None)"
      ]
     },
     "execution_count": 43,
     "metadata": {},
     "output_type": "execute_result"
    }
   ],
   "source": [
    "year_end_dates"
   ]
  },
  {
   "cell_type": "code",
   "execution_count": 44,
   "metadata": {},
   "outputs": [],
   "source": [
    "worst_stocks = df[df.Date == df.Date.max()].sort_values('Growth').head(5)"
   ]
  },
  {
   "cell_type": "code",
   "execution_count": 45,
   "metadata": {},
   "outputs": [],
   "source": [
    "best_stocks = df[df.Date == df.Date.max()].sort_values('Growth', ascending=False).head(5)"
   ]
  },
  {
   "cell_type": "code",
   "execution_count": 46,
   "metadata": {},
   "outputs": [],
   "source": [
    "ws = worst_stocks.Name.values"
   ]
  },
  {
   "cell_type": "code",
   "execution_count": 47,
   "metadata": {},
   "outputs": [],
   "source": [
    "bs = best_stocks.Name.values"
   ]
  },
  {
   "cell_type": "code",
   "execution_count": 48,
   "metadata": {},
   "outputs": [],
   "source": [
    "tdf = df.copy()"
   ]
  },
  {
   "cell_type": "code",
   "execution_count": 49,
   "metadata": {},
   "outputs": [],
   "source": [
    "tdf = df.set_index('Date')"
   ]
  },
  {
   "cell_type": "code",
   "execution_count": 50,
   "metadata": {},
   "outputs": [
    {
     "data": {
      "text/plain": [
       "Name\nAABA    AxesSubplot(0.125,0.2;0.775x0.68)\nGE      AxesSubplot(0.125,0.2;0.775x0.68)\nPFE     AxesSubplot(0.125,0.2;0.775x0.68)\nPG      AxesSubplot(0.125,0.2;0.775x0.68)\nXOM     AxesSubplot(0.125,0.2;0.775x0.68)\nName: Growth, dtype: object"
      ]
     },
     "execution_count": 50,
     "metadata": {},
     "output_type": "execute_result"
    }
   ],
   "source": [
    "tdf[tdf.Name.isin(ws)].groupby('Name').Growth.plot(title='Historical trend of worst 5 stocks of 2017', legend=True)"
   ]
  },
  {
   "cell_type": "code",
   "execution_count": 51,
   "metadata": {},
   "outputs": [
    {
     "data": {
      "text/plain": [
       "Name\nAAPL     AxesSubplot(0.125,0.2;0.775x0.68)\nAMZN     AxesSubplot(0.125,0.2;0.775x0.68)\nGOOGL    AxesSubplot(0.125,0.2;0.775x0.68)\nMCD      AxesSubplot(0.125,0.2;0.775x0.68)\nNKE      AxesSubplot(0.125,0.2;0.775x0.68)\nName: Growth, dtype: object"
      ]
     },
     "execution_count": 51,
     "metadata": {},
     "output_type": "execute_result"
    }
   ],
   "source": [
    "tdf[tdf.Name.isin(bs)].groupby('Name').Growth.plot(title='Historical trend of best 5 stocks of 2017', legend=True)"
   ]
  },
  {
   "cell_type": "code",
   "execution_count": 52,
   "metadata": {},
   "outputs": [
    {
     "data": {
      "text/html": [
       "<div>\n",
       "<style scoped>\n",
       "    .dataframe tbody tr th:only-of-type {\n",
       "        vertical-align: middle;\n",
       "    }\n",
       "\n",
       "    .dataframe tbody tr th {\n",
       "        vertical-align: top;\n",
       "    }\n",
       "\n",
       "    .dataframe thead th {\n",
       "        text-align: right;\n",
       "    }\n",
       "</style>\n",
       "<table border=\"1\" class=\"dataframe\">\n",
       "  <thead>\n",
       "    <tr style=\"text-align: right;\">\n",
       "      <th></th>\n",
       "      <th>Date</th>\n",
       "      <th>Open</th>\n",
       "      <th>High</th>\n",
       "      <th>Low</th>\n",
       "      <th>Close</th>\n",
       "      <th>Volume</th>\n",
       "      <th>Name</th>\n",
       "      <th>Price</th>\n",
       "      <th>Growth</th>\n",
       "    </tr>\n",
       "  </thead>\n",
       "  <tbody>\n",
       "    <tr>\n",
       "      <th>33217</th>\n",
       "      <td>2017-12-29</td>\n",
       "      <td>17.27</td>\n",
       "      <td>17.53</td>\n",
       "      <td>17.27</td>\n",
       "      <td>17.45</td>\n",
       "      <td>76149513</td>\n",
       "      <td>GE</td>\n",
       "      <td>17.38</td>\n",
       "      <td>-0.51</td>\n",
       "    </tr>\n",
       "    <tr>\n",
       "      <th>30197</th>\n",
       "      <td>2017-12-29</td>\n",
       "      <td>84.00</td>\n",
       "      <td>84.20</td>\n",
       "      <td>83.64</td>\n",
       "      <td>83.64</td>\n",
       "      <td>8523411</td>\n",
       "      <td>XOM</td>\n",
       "      <td>83.87</td>\n",
       "      <td>0.46</td>\n",
       "    </tr>\n",
       "    <tr>\n",
       "      <th>66434</th>\n",
       "      <td>2017-12-29</td>\n",
       "      <td>36.23</td>\n",
       "      <td>36.49</td>\n",
       "      <td>36.22</td>\n",
       "      <td>36.22</td>\n",
       "      <td>11421487</td>\n",
       "      <td>PFE</td>\n",
       "      <td>36.29</td>\n",
       "      <td>0.53</td>\n",
       "    </tr>\n",
       "    <tr>\n",
       "      <th>69454</th>\n",
       "      <td>2017-12-29</td>\n",
       "      <td>92.24</td>\n",
       "      <td>92.46</td>\n",
       "      <td>91.88</td>\n",
       "      <td>91.88</td>\n",
       "      <td>4346675</td>\n",
       "      <td>PG</td>\n",
       "      <td>92.11</td>\n",
       "      <td>0.58</td>\n",
       "    </tr>\n",
       "    <tr>\n",
       "      <th>93611</th>\n",
       "      <td>2017-12-29</td>\n",
       "      <td>69.79</td>\n",
       "      <td>70.13</td>\n",
       "      <td>69.43</td>\n",
       "      <td>69.85</td>\n",
       "      <td>6613070</td>\n",
       "      <td>AABA</td>\n",
       "      <td>69.80</td>\n",
       "      <td>0.74</td>\n",
       "    </tr>\n",
       "  </tbody>\n",
       "</table>\n",
       "</div>"
      ],
      "text/plain": [
       "<div>\n",
       "<style scoped>\n",
       "    .dataframe tbody tr th:only-of-type {\n",
       "        vertical-align: middle;\n",
       "    }\n",
       "\n",
       "    .dataframe tbody tr th {\n",
       "        vertical-align: top;\n",
       "    }\n",
       "\n",
       "    .dataframe thead th {\n",
       "        text-align: right;\n",
       "    }\n",
       "</style>\n",
       "<table border=\"1\" class=\"dataframe\">\n",
       "  <thead>\n",
       "    <tr style=\"text-align: right;\">\n",
       "      <th></th>\n",
       "      <th>Date</th>\n",
       "      <th>Open</th>\n",
       "      <th>High</th>\n",
       "      <th>Low</th>\n",
       "      <th>Close</th>\n",
       "      <th>Volume</th>\n",
       "      <th>Name</th>\n",
       "      <th>Price</th>\n",
       "      <th>Growth</th>\n",
       "    </tr>\n",
       "  </thead>\n",
       "  <tbody>\n",
       "    <tr>\n",
       "      <th>33217</th>\n",
       "      <td>2017-12-29</td>\n",
       "      <td>17.27</td>\n",
       "      <td>17.53</td>\n",
       "      <td>17.27</td>\n",
       "      <td>17.45</td>\n",
       "      <td>76149513</td>\n",
       "      <td>GE</td>\n",
       "      <td>17.38</td>\n",
       "      <td>-0.51</td>\n",
       "    </tr>\n",
       "    <tr>\n",
       "      <th>30197</th>\n",
       "      <td>2017-12-29</td>\n",
       "      <td>84.00</td>\n",
       "      <td>84.20</td>\n",
       "      <td>83.64</td>\n",
       "      <td>83.64</td>\n",
       "      <td>8523411</td>\n",
       "      <td>XOM</td>\n",
       "      <td>83.87</td>\n",
       "      <td>0.46</td>\n",
       "    </tr>\n",
       "    <tr>\n",
       "      <th>66434</th>\n",
       "      <td>2017-12-29</td>\n",
       "      <td>36.23</td>\n",
       "      <td>36.49</td>\n",
       "      <td>36.22</td>\n",
       "      <td>36.22</td>\n",
       "      <td>11421487</td>\n",
       "      <td>PFE</td>\n",
       "      <td>36.29</td>\n",
       "      <td>0.53</td>\n",
       "    </tr>\n",
       "    <tr>\n",
       "      <th>69454</th>\n",
       "      <td>2017-12-29</td>\n",
       "      <td>92.24</td>\n",
       "      <td>92.46</td>\n",
       "      <td>91.88</td>\n",
       "      <td>91.88</td>\n",
       "      <td>4346675</td>\n",
       "      <td>PG</td>\n",
       "      <td>92.11</td>\n",
       "      <td>0.58</td>\n",
       "    </tr>\n",
       "    <tr>\n",
       "      <th>93611</th>\n",
       "      <td>2017-12-29</td>\n",
       "      <td>69.79</td>\n",
       "      <td>70.13</td>\n",
       "      <td>69.43</td>\n",
       "      <td>69.85</td>\n",
       "      <td>6613070</td>\n",
       "      <td>AABA</td>\n",
       "      <td>69.80</td>\n",
       "      <td>0.74</td>\n",
       "    </tr>\n",
       "  </tbody>\n",
       "</table>\n",
       "</div>"
      ]
     },
     "execution_count": 52,
     "metadata": {},
     "output_type": "execute_result"
    }
   ],
   "source": [
    "worst_stocks"
   ]
  },
  {
   "cell_type": "code",
   "execution_count": 53,
   "metadata": {},
   "outputs": [
    {
     "data": {
      "text/html": [
       "<div>\n",
       "<style scoped>\n",
       "    .dataframe tbody tr th:only-of-type {\n",
       "        vertical-align: middle;\n",
       "    }\n",
       "\n",
       "    .dataframe tbody tr th {\n",
       "        vertical-align: top;\n",
       "    }\n",
       "\n",
       "    .dataframe thead th {\n",
       "        text-align: right;\n",
       "    }\n",
       "</style>\n",
       "<table border=\"1\" class=\"dataframe\">\n",
       "  <thead>\n",
       "    <tr style=\"text-align: right;\">\n",
       "      <th></th>\n",
       "      <th>Date</th>\n",
       "      <th>Open</th>\n",
       "      <th>High</th>\n",
       "      <th>Low</th>\n",
       "      <th>Close</th>\n",
       "      <th>Volume</th>\n",
       "      <th>Name</th>\n",
       "      <th>Price</th>\n",
       "      <th>Growth</th>\n",
       "    </tr>\n",
       "  </thead>\n",
       "  <tbody>\n",
       "    <tr>\n",
       "      <th>90592</th>\n",
       "      <td>2017-12-29</td>\n",
       "      <td>1182.35</td>\n",
       "      <td>1184.00</td>\n",
       "      <td>1167.50</td>\n",
       "      <td>1169.47</td>\n",
       "      <td>2688391</td>\n",
       "      <td>AMZN</td>\n",
       "      <td>1175.83</td>\n",
       "      <td>23.87</td>\n",
       "    </tr>\n",
       "    <tr>\n",
       "      <th>9058</th>\n",
       "      <td>2017-12-29</td>\n",
       "      <td>170.52</td>\n",
       "      <td>170.59</td>\n",
       "      <td>169.22</td>\n",
       "      <td>169.23</td>\n",
       "      <td>25999922</td>\n",
       "      <td>AAPL</td>\n",
       "      <td>169.89</td>\n",
       "      <td>15.17</td>\n",
       "    </tr>\n",
       "    <tr>\n",
       "      <th>63414</th>\n",
       "      <td>2017-12-29</td>\n",
       "      <td>63.21</td>\n",
       "      <td>63.37</td>\n",
       "      <td>62.55</td>\n",
       "      <td>62.55</td>\n",
       "      <td>5222115</td>\n",
       "      <td>NKE</td>\n",
       "      <td>62.92</td>\n",
       "      <td>4.83</td>\n",
       "    </tr>\n",
       "    <tr>\n",
       "      <th>54356</th>\n",
       "      <td>2017-12-29</td>\n",
       "      <td>172.98</td>\n",
       "      <td>172.98</td>\n",
       "      <td>171.92</td>\n",
       "      <td>172.12</td>\n",
       "      <td>2201771</td>\n",
       "      <td>MCD</td>\n",
       "      <td>172.50</td>\n",
       "      <td>4.10</td>\n",
       "    </tr>\n",
       "    <tr>\n",
       "      <th>87573</th>\n",
       "      <td>2017-12-29</td>\n",
       "      <td>1055.49</td>\n",
       "      <td>1058.05</td>\n",
       "      <td>1052.70</td>\n",
       "      <td>1053.40</td>\n",
       "      <td>1180340</td>\n",
       "      <td>GOOGL</td>\n",
       "      <td>1054.91</td>\n",
       "      <td>3.93</td>\n",
       "    </tr>\n",
       "  </tbody>\n",
       "</table>\n",
       "</div>"
      ],
      "text/plain": [
       "<div>\n",
       "<style scoped>\n",
       "    .dataframe tbody tr th:only-of-type {\n",
       "        vertical-align: middle;\n",
       "    }\n",
       "\n",
       "    .dataframe tbody tr th {\n",
       "        vertical-align: top;\n",
       "    }\n",
       "\n",
       "    .dataframe thead th {\n",
       "        text-align: right;\n",
       "    }\n",
       "</style>\n",
       "<table border=\"1\" class=\"dataframe\">\n",
       "  <thead>\n",
       "    <tr style=\"text-align: right;\">\n",
       "      <th></th>\n",
       "      <th>Date</th>\n",
       "      <th>Open</th>\n",
       "      <th>High</th>\n",
       "      <th>Low</th>\n",
       "      <th>Close</th>\n",
       "      <th>Volume</th>\n",
       "      <th>Name</th>\n",
       "      <th>Price</th>\n",
       "      <th>Growth</th>\n",
       "    </tr>\n",
       "  </thead>\n",
       "  <tbody>\n",
       "    <tr>\n",
       "      <th>90592</th>\n",
       "      <td>2017-12-29</td>\n",
       "      <td>1182.35</td>\n",
       "      <td>1184.00</td>\n",
       "      <td>1167.50</td>\n",
       "      <td>1169.47</td>\n",
       "      <td>2688391</td>\n",
       "      <td>AMZN</td>\n",
       "      <td>1175.83</td>\n",
       "      <td>23.87</td>\n",
       "    </tr>\n",
       "    <tr>\n",
       "      <th>9058</th>\n",
       "      <td>2017-12-29</td>\n",
       "      <td>170.52</td>\n",
       "      <td>170.59</td>\n",
       "      <td>169.22</td>\n",
       "      <td>169.23</td>\n",
       "      <td>25999922</td>\n",
       "      <td>AAPL</td>\n",
       "      <td>169.89</td>\n",
       "      <td>15.17</td>\n",
       "    </tr>\n",
       "    <tr>\n",
       "      <th>63414</th>\n",
       "      <td>2017-12-29</td>\n",
       "      <td>63.21</td>\n",
       "      <td>63.37</td>\n",
       "      <td>62.55</td>\n",
       "      <td>62.55</td>\n",
       "      <td>5222115</td>\n",
       "      <td>NKE</td>\n",
       "      <td>62.92</td>\n",
       "      <td>4.83</td>\n",
       "    </tr>\n",
       "    <tr>\n",
       "      <th>54356</th>\n",
       "      <td>2017-12-29</td>\n",
       "      <td>172.98</td>\n",
       "      <td>172.98</td>\n",
       "      <td>171.92</td>\n",
       "      <td>172.12</td>\n",
       "      <td>2201771</td>\n",
       "      <td>MCD</td>\n",
       "      <td>172.50</td>\n",
       "      <td>4.10</td>\n",
       "    </tr>\n",
       "    <tr>\n",
       "      <th>87573</th>\n",
       "      <td>2017-12-29</td>\n",
       "      <td>1055.49</td>\n",
       "      <td>1058.05</td>\n",
       "      <td>1052.70</td>\n",
       "      <td>1053.40</td>\n",
       "      <td>1180340</td>\n",
       "      <td>GOOGL</td>\n",
       "      <td>1054.91</td>\n",
       "      <td>3.93</td>\n",
       "    </tr>\n",
       "  </tbody>\n",
       "</table>\n",
       "</div>"
      ]
     },
     "execution_count": 53,
     "metadata": {},
     "output_type": "execute_result"
    }
   ],
   "source": [
    "best_stocks"
   ]
  },
  {
   "cell_type": "heading",
   "metadata": {},
   "level": 1,
   "source": [
    "Corelation Analysis\n"
   ]
  },
  {
   "cell_type": "markdown",
   "metadata": {},
   "source": [
    "Let us now try to find some corelation between the growth vs time of each stock in the dataset"
   ]
  },
  {
   "cell_type": "code",
   "execution_count": 54,
   "metadata": {},
   "outputs": [
    {
     "data": {
      "text/plain": [
       "<matplotlib.axes._subplots.AxesSubplot at 0x259cae47630>"
      ]
     },
     "execution_count": 54,
     "metadata": {},
     "output_type": "execute_result"
    },
    {
     "data": {
      "image/png": "[encoded data removed]",
      "text/plain": [
       "<matplotlib.figure.Figure at 0x259c9c313c8>"
      ]
     },
     "metadata": {},
     "output_type": "display_data"
    }
   ],
   "source": [
    "corr = df.pivot('Date', 'Name', 'Growth').corr()\n",
    "sns.heatmap(corr)"
   ]
  },
  {
   "cell_type": "markdown",
   "metadata": {},
   "source": [
    "Let's us just focus on high positive and high negative corelations."
   ]
  },
  {
   "cell_type": "code",
   "execution_count": 55,
   "metadata": {},
   "outputs": [],
   "source": [
    "def unique_corelations(indices):\n",
    "    mapping = {}\n",
    "    for record in indices:\n",
    "        (stock_a, stock_b) = record\n",
    "        value_list = mapping.get(stock_a)\n",
    "        if value_list:\n",
    "            if stock_b not in value_list:\n",
    "                value_list.append(stock_b)\n",
    "                mapping.update({stock_a: value_list})\n",
    "        else:\n",
    "            mapping.update({stock_a: [stock_b]})\n",
    "\n",
    "    return mapping\n",
    "\n",
    "def filter_corelations_positive(corr, threshold=0.9):\n",
    "    indices = np.where(corr > threshold)\n",
    "    indices = [(corr.index[x], corr.columns[y]) for x, y in zip(*indices)\n",
    "               if x != y and x < y]\n",
    "    mapping = unique_corelations(indices)\n",
    "    return mapping\n",
    "\n",
    "def filter_corelations_negative(corr, threshold=-0.8):\n",
    "    indices = np.where(corr < threshold)\n",
    "    indices = [(corr.index[x], corr.columns[y]) for x, y in zip(*indices)\n",
    "               if x != y and x < y]\n",
    "    mapping = unique_corelations(indices)\n",
    "    return mapping\n"
   ]
  },
  {
   "cell_type": "code",
   "execution_count": 56,
   "metadata": {},
   "outputs": [
    {
     "data": {
      "text/plain": [
       "{'AMZN': ['GOOGL', 'HD', 'MSFT', 'UNH'],\n 'BA': ['JPM'],\n 'DIS': ['HD', 'NKE', 'TRV'],\n 'GOOGL': ['HD', 'JNJ', 'MMM', 'MSFT', 'TRV', 'UNH'],\n 'HD': ['JNJ', 'MMM', 'NKE', 'TRV', 'UNH'],\n 'JNJ': ['MMM', 'MSFT', 'TRV'],\n 'JPM': ['MSFT'],\n 'MMM': ['MSFT', 'TRV', 'UNH'],\n 'MSFT': ['UNH'],\n 'NKE': ['TRV']}"
      ]
     },
     "execution_count": 56,
     "metadata": {},
     "output_type": "execute_result"
    }
   ],
   "source": [
    "filter_corelations_positive(corr, threshold=0.95)"
   ]
  },
  {
   "cell_type": "code",
   "execution_count": 57,
   "metadata": {},
   "outputs": [
    {
     "data": {
      "text/plain": [
       "{'GE': ['IBM', 'MCD']}"
      ]
     },
     "execution_count": 57,
     "metadata": {},
     "output_type": "execute_result"
    }
   ],
   "source": [
    "filter_corelations_negative(corr, -0.1)"
   ]
  },
  {
   "cell_type": "markdown",
   "metadata": {},
   "source": [
    "From the above results, we can note the following:-\n",
    "\n",
    "There is a Strong Positive corelation in the stock growth of GOOGL with MSFT, NKE, etc.\n",
    "There is a Weak Negative corelation in the stock growth of GE with IBM and MCD.\n"
   ]
  },
  {
   "cell_type": "markdown",
   "metadata": {},
   "source": [
    "Let us try to forecast the prices of the Google Stock(GOOGL) and measure how close we came to the actual value."
   ]
  },
  {
   "cell_type": "heading",
   "metadata": {},
   "level": 1,
   "source": [
    "Data Modelling"
   ]
  },
  {
   "cell_type": "code",
   "execution_count": 58,
   "metadata": {},
   "outputs": [],
   "source": [
    "google_df = df[df.Name == 'GOOGL']"
   ]
  },
  {
   "cell_type": "code",
   "execution_count": 59,
   "metadata": {},
   "outputs": [],
   "source": [
    "gdf = google_df[['Date', 'Price']].sort_values('Date')"
   ]
  },
  {
   "cell_type": "heading",
   "metadata": {},
   "level": 1,
   "source": [
    "Model Selection"
   ]
  },
  {
   "cell_type": "markdown",
   "metadata": {},
   "source": [
    "We will choose LSTM's as our model for forecasting stock prices."
   ]
  },
  {
   "cell_type": "heading",
   "metadata": {},
   "level": 1,
   "source": [
    "Fetch Data"
   ]
  },
  {
   "cell_type": "markdown",
   "metadata": {},
   "source": [
    "We will only use the Price column to forecast the future stock price for simplicity. We will ignore all of the other columns.\n",
    "\n"
   ]
  },
  {
   "cell_type": "code",
   "execution_count": 60,
   "metadata": {},
   "outputs": [],
   "source": [
    "training_set = gdf[gdf.Date.dt.year != 2017].Price.values"
   ]
  },
  {
   "cell_type": "code",
   "execution_count": 61,
   "metadata": {},
   "outputs": [],
   "source": [
    "test_set =  gdf[gdf.Date.dt.year == 2017].Price.values"
   ]
  },
  {
   "cell_type": "code",
   "execution_count": 62,
   "metadata": {},
   "outputs": [
    {
     "name": "stdout",
     "output_type": "stream",
     "text": [
      "Training set size:  2768\nTest set size:  251\n"
     ]
    }
   ],
   "source": [
    "print(\"Training set size: \",training_set.size)\n",
    "print(\"Test set size: \", test_set.size)"
   ]
  },
  {
   "cell_type": "heading",
   "metadata": {},
   "level": 1,
   "source": [
    "Feature Scaling"
   ]
  },
  {
   "cell_type": "markdown",
   "metadata": {},
   "source": [
    "As the amount of stock prices vary by a huge margin, we will scale the prices to be in the 0-1 range"
   ]
  },
  {
   "cell_type": "code",
   "execution_count": 63,
   "metadata": {},
   "outputs": [],
   "source": [
    "from sklearn.preprocessing import MinMaxScaler  "
   ]
  },
  {
   "cell_type": "code",
   "execution_count": 64,
   "metadata": {},
   "outputs": [],
   "source": [
    "scaler = MinMaxScaler()"
   ]
  },
  {
   "cell_type": "code",
   "execution_count": 65,
   "metadata": {},
   "outputs": [],
   "source": [
    "training_set_scaled = scaler.fit_transform(training_set.reshape(-1, 1))"
   ]
  },
  {
   "cell_type": "heading",
   "metadata": {},
   "level": 1,
   "source": [
    "Train and Test timestep data creation"
   ]
  },
  {
   "cell_type": "markdown",
   "metadata": {},
   "source": [
    "For training, we will use previous 30 stock values to predict the stock price at time t. For this, we have to create our training and test set.\n"
   ]
  },
  {
   "cell_type": "code",
   "execution_count": 133,
   "metadata": {},
   "outputs": [],
   "source": [
    "def create_train_data(training_set_scaled):\n",
    "    X_train, y_train = [], []\n",
    "    for i in range(30, training_set_scaled.size):\n",
    "        X_train.append(training_set_scaled[i-30: i])\n",
    "        y_train.append(training_set_scaled[i])\n",
    "    # Converting list to numpy arrays\n",
    "    X_train = np.array(X_train)\n",
    "    y_train = np.array(y_train)\n",
    "    return X_train, y_train"
   ]
  },
  {
   "cell_type": "code",
   "execution_count": 67,
   "metadata": {},
   "outputs": [],
   "source": [
    "X_train, y_train = create_train_data(training_set_scaled)"
   ]
  },
  {
   "cell_type": "markdown",
   "metadata": {},
   "source": []
  },
  {
   "cell_type": "code",
   "execution_count": 68,
   "metadata": {},
   "outputs": [],
   "source": [
    "def create_test_data():\n",
    "    X_test = []\n",
    "    inputs = gdf[len(gdf) - len(test_set) - 30:].Price.values\n",
    "    inputs = scaler.transform(inputs.reshape(-1, 1))\n",
    "    for i in range(30, test_set.size+30): # Range of the number of values in the training dataset\n",
    "        X_test.append(inputs[i - 30: i, 0])\n",
    "    X_test = np.array(X_test)\n",
    "    X_test = np.reshape(X_test, (X_test.shape[0], X_test.shape[1], 1))\n",
    "    return X_test"
   ]
  },
  {
   "cell_type": "code",
   "execution_count": 69,
   "metadata": {},
   "outputs": [],
   "source": [
    "X_test = create_test_data()"
   ]
  },
  {
   "cell_type": "code",
   "execution_count": 77,
   "metadata": {},
   "outputs": [
    {
     "data": {
      "text/plain": [
       "(251, 30, 1)"
      ]
     },
     "execution_count": 77,
     "metadata": {},
     "output_type": "execute_result"
    }
   ],
   "source": [
    "X_test.shape"
   ]
  },
  {
   "cell_type": "heading",
   "metadata": {},
   "level": 1,
   "source": []
  },
  {
   "cell_type": "markdown",
   "metadata": {},
   "source": [
    "Let us first start with a very simple model. We will use a single LSTM layer."
   ]
  },
  {
   "cell_type": "code",
   "execution_count": 78,
   "metadata": {},
   "outputs": [],
   "source": [
    "from tensorflow.python.keras.models import Sequential\n",
    "from tensorflow.python.keras.layers import Dense, LSTM"
   ]
  },
  {
   "cell_type": "code",
   "execution_count": 80,
   "metadata": {},
   "outputs": [],
   "source": [
    "def create_simple_model():\n",
    "    model = Sequential()\n",
    "    model.add(LSTM(units = 10, return_sequences=False, input_shape=(X_train.shape[1], 1)))\n",
    "    model.add(Dense(units = 1))\n",
    "    return model"
   ]
  },
  {
   "cell_type": "markdown",
   "metadata": {},
   "source": []
  },
  {
   "cell_type": "code",
   "execution_count": 81,
   "metadata": {},
   "outputs": [],
   "source": [
    "def compile_and_run(model, epochs=50, batch_size=64):\n",
    "    model.compile(metrics=['accuracy'], optimizer='adam', loss='mean_squared_error')\n",
    "    history = model.fit(X_train, y_train, epochs=epochs, batch_size=batch_size, verbose=3)\n",
    "    return history"
   ]
  },
  {
   "cell_type": "code",
   "execution_count": 82,
   "metadata": {},
   "outputs": [],
   "source": [
    "def plot_metrics(history):\n",
    "    metrics_df = pd.DataFrame(data={\"loss\": history.history['loss']})\n",
    "    metrics_df.plot()"
   ]
  },
  {
   "cell_type": "code",
   "execution_count": 83,
   "metadata": {},
   "outputs": [
    {
     "name": "stdout",
     "output_type": "stream",
     "text": [
      "Epoch 1/20\n"
     ]
    },
    {
     "name": "stdout",
     "output_type": "stream",
     "text": [
      "Epoch 2/20\n"
     ]
    },
    {
     "name": "stdout",
     "output_type": "stream",
     "text": [
      "Epoch 3/20\n"
     ]
    },
    {
     "name": "stdout",
     "output_type": "stream",
     "text": [
      "Epoch 4/20\n"
     ]
    },
    {
     "name": "stdout",
     "output_type": "stream",
     "text": [
      "Epoch 5/20\n"
     ]
    },
    {
     "name": "stdout",
     "output_type": "stream",
     "text": [
      "Epoch 6/20\n"
     ]
    },
    {
     "name": "stdout",
     "output_type": "stream",
     "text": [
      "Epoch 7/20\n"
     ]
    },
    {
     "name": "stdout",
     "output_type": "stream",
     "text": [
      "Epoch 8/20\n"
     ]
    },
    {
     "name": "stdout",
     "output_type": "stream",
     "text": [
      "Epoch 9/20\n"
     ]
    },
    {
     "name": "stdout",
     "output_type": "stream",
     "text": [
      "Epoch 10/20\n"
     ]
    },
    {
     "name": "stdout",
     "output_type": "stream",
     "text": [
      "Epoch 11/20\n"
     ]
    },
    {
     "name": "stdout",
     "output_type": "stream",
     "text": [
      "Epoch 12/20\n"
     ]
    },
    {
     "name": "stdout",
     "output_type": "stream",
     "text": [
      "Epoch 13/20\n"
     ]
    },
    {
     "name": "stdout",
     "output_type": "stream",
     "text": [
      "Epoch 14/20\n"
     ]
    },
    {
     "name": "stdout",
     "output_type": "stream",
     "text": [
      "Epoch 15/20\n"
     ]
    },
    {
     "name": "stdout",
     "output_type": "stream",
     "text": [
      "Epoch 16/20\n"
     ]
    },
    {
     "name": "stdout",
     "output_type": "stream",
     "text": [
      "Epoch 17/20\n"
     ]
    },
    {
     "name": "stdout",
     "output_type": "stream",
     "text": [
      "Epoch 18/20\n"
     ]
    },
    {
     "name": "stdout",
     "output_type": "stream",
     "text": [
      "Epoch 19/20\n"
     ]
    },
    {
     "name": "stdout",
     "output_type": "stream",
     "text": [
      "Epoch 20/20\n"
     ]
    }
   ],
   "source": [
    "simple_model = create_simple_model()\n",
    "history = compile_and_run(simple_model, epochs=20)"
   ]
  },
  {
   "cell_type": "code",
   "execution_count": 93,
   "metadata": {},
   "outputs": [
    {
     "data": {
      "image/png": "[encoded data removed]",
      "text/plain": [
       "<matplotlib.figure.Figure at 0x259cfa82ef0>"
      ]
     },
     "metadata": {},
     "output_type": "display_data"
    }
   ],
   "source": [
    "plot_metrics(history)"
   ]
  },
  {
   "cell_type": "markdown",
   "metadata": {},
   "source": [
    "Let us now use the model on the test set."
   ]
  },
  {
   "cell_type": "code",
   "execution_count": 131,
   "metadata": {},
   "outputs": [],
   "source": [
    "def make_predictions(X_test, model):\n",
    "    y_pred = model.predict(X_test)\n",
    "    final_predictions = scaler.inverse_transform(y_pred)\n",
    "    fp = np.ndarray.flatten(final_predictions)\n",
    "    ap = np.ndarray.flatten(test_set)\n",
    "    pdf = pd.DataFrame(data={'Actual': ap, 'Predicted': fp})\n",
    "    pdf.plot()"
   ]
  },
  {
   "cell_type": "code",
   "execution_count": 115,
   "metadata": {},
   "outputs": [
    {
     "data": {
      "image/png": "[encoded data removed]",
      "text/plain": [
       "<matplotlib.figure.Figure at 0x259cd3f1eb8>"
      ]
     },
     "metadata": {},
     "output_type": "display_data"
    }
   ],
   "source": [
    "make_predictions(X_test, simple_model)"
   ]
  },
  {
   "cell_type": "heading",
   "metadata": {},
   "level": 1,
   "source": [
    "Deep Neural Nets"
   ]
  },
  {
   "cell_type": "markdown",
   "metadata": {},
   "source": []
  },
  {
   "cell_type": "code",
   "execution_count": 112,
   "metadata": {},
   "outputs": [],
   "source": [
    "def create_dl_model():\n",
    "    model = Sequential()\n",
    "\n",
    "    # Adding the first LSTM layer\n",
    "    model.add(LSTM(units = 50, return_sequences = True, input_shape = (X_train.shape[1], 1)))\n",
    "\n",
    "    # Adding a second LSTM layer\n",
    "    model.add(LSTM(units = 50, return_sequences = True))\n",
    "    \n",
    "    # Adding a third LSTM layer\n",
    "    model.add(LSTM(units = 50, return_sequences = True))\n",
    "\n",
    "    # Adding a fourth LSTM layer\n",
    "    model.add(LSTM(units = 50))\n",
    "\n",
    "    # Adding the output layer\n",
    "    model.add(Dense(units = 1))\n",
    "    return model"
   ]
  },
  {
   "cell_type": "code",
   "execution_count": 113,
   "metadata": {},
   "outputs": [],
   "source": [
    "dl_model = create_dl_model()"
   ]
  },
  {
   "cell_type": "code",
   "execution_count": 114,
   "metadata": {},
   "outputs": [
    {
     "name": "stdout",
     "output_type": "stream",
     "text": [
      "_________________________________________________________________\nLayer (type)                 Output Shape              Param #   \n=================================================================\nlstm_2 (LSTM)                (None, 30, 50)            10400     \n_________________________________________________________________\nlstm_3 (LSTM)                (None, 30, 50)            20200     \n_________________________________________________________________\nlstm_4 (LSTM)                (None, 30, 50)            20200     \n_________________________________________________________________\nlstm_5 (LSTM)                (None, 50)                20200     \n_________________________________________________________________\ndense_2 (Dense)              (None, 1)                 51        \n=================================================================\nTotal params: 71,051\nTrainable params: 71,051\nNon-trainable params: 0\n_________________________________________________________________\n"
     ]
    }
   ],
   "source": [
    "dl_model.summary()"
   ]
  },
  {
   "cell_type": "code",
   "execution_count": 116,
   "metadata": {},
   "outputs": [
    {
     "name": "stdout",
     "output_type": "stream",
     "text": [
      "Epoch 1/20\n"
     ]
    },
    {
     "name": "stdout",
     "output_type": "stream",
     "text": [
      "Epoch 2/20\n"
     ]
    },
    {
     "name": "stdout",
     "output_type": "stream",
     "text": [
      "Epoch 3/20\n"
     ]
    },
    {
     "name": "stdout",
     "output_type": "stream",
     "text": [
      "Epoch 4/20\n"
     ]
    },
    {
     "name": "stdout",
     "output_type": "stream",
     "text": [
      "Epoch 5/20\n"
     ]
    },
    {
     "name": "stdout",
     "output_type": "stream",
     "text": [
      "Epoch 6/20\n"
     ]
    },
    {
     "name": "stdout",
     "output_type": "stream",
     "text": [
      "Epoch 7/20\n"
     ]
    },
    {
     "name": "stdout",
     "output_type": "stream",
     "text": [
      "Epoch 8/20\n"
     ]
    },
    {
     "name": "stdout",
     "output_type": "stream",
     "text": [
      "Epoch 9/20\n"
     ]
    },
    {
     "name": "stdout",
     "output_type": "stream",
     "text": [
      "Epoch 10/20\n"
     ]
    },
    {
     "name": "stdout",
     "output_type": "stream",
     "text": [
      "Epoch 11/20\n"
     ]
    },
    {
     "name": "stdout",
     "output_type": "stream",
     "text": [
      "Epoch 12/20\n"
     ]
    },
    {
     "name": "stdout",
     "output_type": "stream",
     "text": [
      "Epoch 13/20\n"
     ]
    },
    {
     "name": "stdout",
     "output_type": "stream",
     "text": [
      "Epoch 14/20\n"
     ]
    },
    {
     "name": "stdout",
     "output_type": "stream",
     "text": [
      "Epoch 15/20\n"
     ]
    },
    {
     "name": "stdout",
     "output_type": "stream",
     "text": [
      "Epoch 16/20\n"
     ]
    },
    {
     "name": "stdout",
     "output_type": "stream",
     "text": [
      "Epoch 17/20\n"
     ]
    },
    {
     "name": "stdout",
     "output_type": "stream",
     "text": [
      "Epoch 18/20\n"
     ]
    },
    {
     "name": "stdout",
     "output_type": "stream",
     "text": [
      "Epoch 19/20\n"
     ]
    },
    {
     "name": "stdout",
     "output_type": "stream",
     "text": [
      "Epoch 20/20\n"
     ]
    }
   ],
   "source": [
    "history = compile_and_run(dl_model, epochs=20)"
   ]
  },
  {
   "cell_type": "code",
   "execution_count": 117,
   "metadata": {},
   "outputs": [
    {
     "data": {
      "image/png": "[encoded data removed]",
      "text/plain": [
       "<matplotlib.figure.Figure at 0x259cf45d4e0>"
      ]
     },
     "metadata": {},
     "output_type": "display_data"
    }
   ],
   "source": [
    "plot_metrics(history)"
   ]
  },
  {
   "cell_type": "heading",
   "metadata": {},
   "level": 1,
   "source": [
    "Prediction Analysis"
   ]
  },
  {
   "cell_type": "markdown",
   "metadata": {},
   "source": [
    "Let us try our deep neural net on the test set."
   ]
  },
  {
   "cell_type": "code",
   "execution_count": 132,
   "metadata": {},
   "outputs": [
    {
     "data": {
      "image/png": "[encoded data removed]",
      "text/plain": [
       "<matplotlib.figure.Figure at 0x259dbe7ddd8>"
      ]
     },
     "metadata": {},
     "output_type": "display_data"
    }
   ],
   "source": [
    "make_predictions(X_test, dl_model)"
   ]
  }
 ],
 "metadata": {
  "kernelspec": {
   "display_name": "Python 2",
   "language": "python",
   "name": "python2"
  },
  "language_info": {
   "codemirror_mode": {
    "name": "ipython",
    "version": 2
   },
   "file_extension": ".py",
   "mimetype": "text/x-python",
   "name": "python",
   "nbconvert_exporter": "python",
   "pygments_lexer": "ipython2",
   "version": "2.7.6"
  }
 },
 "nbformat": 4,
 "nbformat_minor": 0
}
