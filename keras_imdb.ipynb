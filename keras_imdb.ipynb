{
 "cells": [
  {
   "cell_type": "markdown",
   "metadata": {
    "id": "view-in-github",
    "colab_type": "text"
   },
   "source": [
    "[View in Colaboratory](https://colab.research.google.com/github/BikashShaw/MLPractice/blob/master/keras_imdb.ipynb)"
   ]
  },
  {
   "cell_type": "markdown",
   "metadata": {
    "id": "oahEaYNgS8mU",
    "colab_type": "text"
   },
   "source": [
    "Loading the IMDB dataset"
   ]
  },
  {
   "cell_type": "code",
   "execution_count": 0,
   "metadata": {
    "id": "P40i8KBISBNX",
    "colab_type": "code",
    "colab": {}
   },
   "outputs": [],
   "source": [
    "from tensorflow.python.keras.datasets import imdb\n",
    "\n",
    "(train_data, train_labels), (test_data, test_labels) = imdb.load_data(num_words=10000)"
   ]
  },
  {
   "cell_type": "markdown",
   "metadata": {
    "id": "Ers4LYhqTE5l",
    "colab_type": "text"
   },
   "source": [
    "Encoding the integer sequences into a binary matrix"
   ]
  },
  {
   "cell_type": "code",
   "execution_count": 0,
   "metadata": {
    "id": "2X7k0V5CS5ut",
    "colab_type": "code",
    "colab": {}
   },
   "outputs": [],
   "source": [
    "import numpy as np\n",
    "\n",
    "def vectorize_sequences(sequences, dimension=10000):\n",
    "  results = np.zeros((len(sequences), dimension)) \n",
    "  for i, sequence in enumerate(sequences):\n",
    "    results[i, sequence] = 1.\n",
    "  return results\n",
    "\n",
    "x_train = vectorize_sequences(train_data)\n",
    "x_test = vectorize_sequences(test_data)\n",
    "\n",
    "y_train = np.asarray(train_labels).astype('float32')\n",
    "y_test = np.asarray(test_labels).astype('float32')"
   ]
  },
  {
   "cell_type": "markdown",
   "metadata": {
    "id": "fBItiIzkU7Fm",
    "colab_type": "text"
   },
   "source": [
    "The model definition"
   ]
  },
  {
   "cell_type": "code",
   "execution_count": 0,
   "metadata": {
    "id": "66pDW6p0U-pc",
    "colab_type": "code",
    "colab": {}
   },
   "outputs": [],
   "source": [
    "from tensorflow.python.keras import models\n",
    "from tensorflow.python.keras import layers\n",
    "\n",
    "model = models.Sequential()\n",
    "model.add(layers.Dense(16, activation='relu', input_shape=(10000,)))\n",
    "model.add(layers.Dense(16, activation='relu'))\n",
    "model.add(layers.Dense(1, activation='sigmoid'))"
   ]
  },
  {
   "cell_type": "markdown",
   "metadata": {
    "id": "LJjv0Os7YEmM",
    "colab_type": "text"
   },
   "source": [
    "Compiling the model\n",
    "\n",
    "\n",
    "1.   Configuring the optimizer\n",
    "2.   Using custom losses and metrics\n",
    "\n"
   ]
  },
  {
   "cell_type": "code",
   "execution_count": 0,
   "metadata": {
    "id": "I4K8bwdLYH05",
    "colab_type": "code",
    "colab": {}
   },
   "outputs": [],
   "source": [
    "from tensorflow.python.keras import optimizers\n",
    "\n",
    "model.compile(optimizer='rmsprop', loss='binary_crossentropy', metrics=['acc'])"
   ]
  },
  {
   "cell_type": "markdown",
   "metadata": {
    "id": "HaGudf7IbD24",
    "colab_type": "text"
   },
   "source": [
    "Setting aside a validation set"
   ]
  },
  {
   "cell_type": "code",
   "execution_count": 0,
   "metadata": {
    "id": "g-Qdew8bbE4K",
    "colab_type": "code",
    "colab": {}
   },
   "outputs": [],
   "source": [
    "x_val = x_train[:10000]\n",
    "partial_x_train = x_train[10000:]\n",
    "y_val = y_train[:10000]\n",
    "partial_y_train = y_train[10000:]"
   ]
  },
  {
   "cell_type": "markdown",
   "metadata": {
    "id": "yNPF8IoBbmVb",
    "colab_type": "text"
   },
   "source": [
    "Training model"
   ]
  },
  {
   "cell_type": "code",
   "execution_count": 50,
   "metadata": {
    "id": "BUW9Zuoebrdo",
    "colab_type": "code",
    "colab": {
     "base_uri": "https://localhost:8080/",
     "height": 714.0
    },
    "outputId": "87348671-f61d-4f69-a610-1df2a26fe7d2"
   },
   "outputs": [
    {
     "name": "stdout",
     "output_type": "stream",
     "text": [
      "Train on 15000 samples, validate on 10000 samples\n",
      "Epoch 1/20\n",
      "15000/15000 [==============================] - 2s 156us/step - loss: 0.5375 - acc: 0.7736 - val_loss: 0.4097 - val_acc: 0.8666\n",
      "Epoch 2/20\n",
      "15000/15000 [==============================] - 2s 123us/step - loss: 0.3245 - acc: 0.8992 - val_loss: 0.3157 - val_acc: 0.8828\n",
      "Epoch 3/20\n",
      "15000/15000 [==============================] - 2s 119us/step - loss: 0.2338 - acc: 0.9260 - val_loss: 0.2815 - val_acc: 0.8898\n",
      "Epoch 4/20\n",
      "15000/15000 [==============================] - 2s 120us/step - loss: 0.1808 - acc: 0.9403 - val_loss: 0.2745 - val_acc: 0.8885\n",
      "Epoch 5/20\n",
      "15000/15000 [==============================] - 2s 121us/step - loss: 0.1418 - acc: 0.9550 - val_loss: 0.2780 - val_acc: 0.8878\n",
      "Epoch 6/20\n",
      "15000/15000 [==============================] - 2s 120us/step - loss: 0.1182 - acc: 0.9635 - val_loss: 0.2940 - val_acc: 0.8863\n",
      "Epoch 7/20\n",
      "15000/15000 [==============================] - 2s 123us/step - loss: 0.0956 - acc: 0.9741 - val_loss: 0.3125 - val_acc: 0.8821\n",
      "Epoch 8/20\n",
      "15000/15000 [==============================] - 2s 121us/step - loss: 0.0796 - acc: 0.9788 - val_loss: 0.3368 - val_acc: 0.8814\n",
      "Epoch 9/20\n",
      " 9728/15000 [==================>...........] - ETA: 0s - loss: 0.0622 - acc: 0.9861"
     ]
    },
    {
     "name": "stdout",
     "output_type": "stream",
     "text": [
      "15000/15000 [==============================] - 2s 119us/step - loss: 0.0652 - acc: 0.9836 - val_loss: 0.3812 - val_acc: 0.8716\n",
      "Epoch 10/20\n",
      "15000/15000 [==============================] - 2s 120us/step - loss: 0.0532 - acc: 0.9876 - val_loss: 0.4073 - val_acc: 0.8713\n",
      "Epoch 11/20\n",
      "15000/15000 [==============================] - 2s 121us/step - loss: 0.0414 - acc: 0.9912 - val_loss: 0.4161 - val_acc: 0.8761\n",
      "Epoch 12/20\n",
      "15000/15000 [==============================] - 2s 119us/step - loss: 0.0345 - acc: 0.9927 - val_loss: 0.4321 - val_acc: 0.8715\n",
      "Epoch 13/20\n",
      "15000/15000 [==============================] - 2s 122us/step - loss: 0.0286 - acc: 0.9937 - val_loss: 0.4555 - val_acc: 0.8736\n",
      "Epoch 14/20\n",
      "15000/15000 [==============================] - 2s 123us/step - loss: 0.0209 - acc: 0.9963 - val_loss: 0.4853 - val_acc: 0.8717\n",
      "Epoch 15/20\n",
      "15000/15000 [==============================] - 2s 118us/step - loss: 0.0162 - acc: 0.9978 - val_loss: 0.5166 - val_acc: 0.8715\n",
      "Epoch 16/20\n",
      "15000/15000 [==============================] - 2s 121us/step - loss: 0.0127 - acc: 0.9985 - val_loss: 0.5406 - val_acc: 0.8711\n",
      "Epoch 17/20\n",
      "15000/15000 [==============================] - 2s 119us/step - loss: 0.0095 - acc: 0.9991 - val_loss: 0.5778 - val_acc: 0.8706\n",
      "Epoch 18/20\n",
      "  512/15000 [>.............................] - ETA: 1s - loss: 0.0045 - acc: 1.0000"
     ]
    },
    {
     "name": "stdout",
     "output_type": "stream",
     "text": [
      "15000/15000 [==============================] - 2s 118us/step - loss: 0.0065 - acc: 0.9993 - val_loss: 0.6992 - val_acc: 0.8537\n",
      "Epoch 19/20\n",
      "15000/15000 [==============================] - 2s 120us/step - loss: 0.0043 - acc: 0.9998 - val_loss: 0.7191 - val_acc: 0.8577\n",
      "Epoch 20/20\n",
      "15000/15000 [==============================] - 2s 121us/step - loss: 0.0048 - acc: 0.9997 - val_loss: 0.6785 - val_acc: 0.8651\n"
     ]
    }
   ],
   "source": [
    "history = model.fit(partial_x_train, partial_y_train, epochs=20, batch_size=512, validation_data=(x_val, y_val))"
   ]
  },
  {
   "cell_type": "markdown",
   "metadata": {
    "id": "Awb24Y9nci9o",
    "colab_type": "text"
   },
   "source": [
    "Plotting the training and validation loss"
   ]
  },
  {
   "cell_type": "code",
   "execution_count": 51,
   "metadata": {
    "id": "zWc4upe3clcu",
    "colab_type": "code",
    "colab": {
     "base_uri": "https://localhost:8080/",
     "height": 376.0
    },
    "outputId": "91b1962a-f663-434a-d110-824efe174784"
   },
   "outputs": [
    {
     "data": {
      "image/png": "[encoded data removed]",
      "text/plain": [
       "<matplotlib.figure.Figure at 0x7f711eb96080>"
      ]
     },
     "metadata": {
      "tags": []
     },
     "output_type": "display_data"
    }
   ],
   "source": [
    "import matplotlib.pyplot as plt\n",
    "\n",
    "history_dict = history.history\n",
    "loss_values = history_dict['loss']\n",
    "val_loss_values = history_dict['val_loss']\n",
    "acc = history_dict['acc']\n",
    "epochs = range(1, len(acc) + 1)\n",
    "plt.plot(epochs, loss_values, 'bo', label='Training loss')\n",
    "plt.plot(epochs, val_loss_values, 'b', label='Validation loss')\n",
    "plt.title('Training and validation loss')\n",
    "plt.xlabel('Epochs')\n",
    "plt.ylabel('Loss')\n",
    "plt.legend()\n",
    "plt.show()"
   ]
  },
  {
   "cell_type": "markdown",
   "metadata": {
    "id": "EtaXtjgLmGOz",
    "colab_type": "text"
   },
   "source": [
    "Plotting the training and validation accuracy"
   ]
  },
  {
   "cell_type": "code",
   "execution_count": 52,
   "metadata": {
    "id": "asQfEypFmHHN",
    "colab_type": "code",
    "colab": {
     "base_uri": "https://localhost:8080/",
     "height": 376.0
    },
    "outputId": "2b4692a2-1a12-4e80-f88a-1576219dd918"
   },
   "outputs": [
    {
     "data": {
      "image/png": "[encoded data removed]",
      "text/plain": [
       "<matplotlib.figure.Figure at 0x7f713a2a4588>"
      ]
     },
     "metadata": {
      "tags": []
     },
     "output_type": "display_data"
    }
   ],
   "source": [
    "plt.clf()\n",
    "acc_values = history_dict['acc']\n",
    "val_acc_values = history_dict['val_acc']\n",
    "plt.plot(epochs, acc_values, 'bo', label='Training acc')\n",
    "plt.plot(epochs, val_acc_values, 'b', label='Validation acc')\n",
    "plt.title('Training and validation accuracy')\n",
    "plt.xlabel('Epochs')\n",
    "plt.ylabel('Loss')\n",
    "plt.legend()\n",
    "plt.show()"
   ]
  },
  {
   "cell_type": "markdown",
   "metadata": {
    "id": "cwwPyi5dfM0s",
    "colab_type": "text"
   },
   "source": [
    "Evaluate"
   ]
  },
  {
   "cell_type": "code",
   "execution_count": 53,
   "metadata": {
    "id": "wTXSrx0ifLN7",
    "colab_type": "code",
    "colab": {
     "base_uri": "https://localhost:8080/",
     "height": 51.0
    },
    "outputId": "43bbecc2-e012-4cc7-80cc-726fa98b1a71"
   },
   "outputs": [
    {
     "name": "stdout",
     "output_type": "stream",
     "text": [
      "25000/25000 [==============================] - 2s 73us/step\n",
      "[0.7558450907611847, 0.84948]\n"
     ]
    }
   ],
   "source": [
    "results = model.evaluate(x_test, y_test)\n",
    "\n",
    "print(results)"
   ]
  },
  {
   "cell_type": "markdown",
   "metadata": {
    "id": "Vy5tJN0Jesld",
    "colab_type": "text"
   },
   "source": [
    "Retraining a model from scratch"
   ]
  },
  {
   "cell_type": "code",
   "execution_count": 83,
   "metadata": {
    "id": "9m7G4K-2eXJr",
    "colab_type": "code",
    "colab": {
     "base_uri": "https://localhost:8080/",
     "height": 153.0
    },
    "outputId": "d96104b9-ca01-4181-a759-2482e99b66dd"
   },
   "outputs": [
    {
     "name": "stdout",
     "output_type": "stream",
     "text": [
      "Epoch 1/3\n",
      "25000/25000 [==============================] - 4s 141us/step - loss: 0.1417 - acc: 0.8276\n",
      "Epoch 2/3\n",
      "25000/25000 [==============================] - 2s 96us/step - loss: 0.0777 - acc: 0.9138\n",
      "Epoch 3/3\n",
      "25000/25000 [==============================] - 2s 95us/step - loss: 0.0593 - acc: 0.9316\n",
      "25000/25000 [==============================] - 3s 107us/step\n",
      "[0.08550939569234849, 0.88604]\n"
     ]
    }
   ],
   "source": [
    "model = models.Sequential()\n",
    "\n",
    "model.add(layers.Dense(20, activation='relu', input_shape=(10000,)))\n",
    "\n",
    "model.add(layers.Dense(1, activation='sigmoid'))\n",
    "\n",
    "model.compile(optimizer='rmsprop', loss='binary_crossentropy',metrics=['accuracy'])\n",
    "\n",
    "model.fit(x_train, y_train, epochs=3, batch_size=512)\n",
    "\n",
    "results = model.evaluate(x_test, y_test)\n",
    "\n",
    "print(results)"
   ]
  }
 ],
 "metadata": {
  "colab": {
   "name": "keras_imdb.ipynb",
   "version": "0.3.2",
   "provenance": [],
   "collapsed_sections": []
  },
  "kernelspec": {
   "name": "python3",
   "display_name": "Python 3"
  }
 },
 "nbformat": 4,
 "nbformat_minor": 0
}
