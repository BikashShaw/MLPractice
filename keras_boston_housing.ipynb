{
  "nbformat": 4,
  "nbformat_minor": 0,
  "metadata": {
    "colab": {
      "name": "keras_boston_housing.ipynb",
      "version": "0.3.2",
      "provenance": [],
      "collapsed_sections": []
    },
    "kernelspec": {
      "name": "python3",
      "display_name": "Python 3"
    }
  },
  "cells": [
    {
      "cell_type": "markdown",
      "metadata": {
        "id": "view-in-github",
        "colab_type": "text"
      },
      "source": [
        "[View in Colaboratory](https://colab.research.google.com/github/BikashShaw/MLPractice/blob/master/keras_boston_housing.ipynb)"
      ]
    },
    {
      "metadata": {
        "id": "EmXarY0gg1PZ",
        "colab_type": "text"
      },
      "cell_type": "markdown",
      "source": [
        "Loading the Boston housing dataset"
      ]
    },
    {
      "metadata": {
        "id": "BUPcA_pEgrPn",
        "colab_type": "code",
        "colab": {
          "base_uri": "https://localhost:8080/",
          "height": 68
        },
        "outputId": "5520c0c6-758b-4194-ea45-22c738596608"
      },
      "cell_type": "code",
      "source": [
        "from keras.datasets import boston_housing\n",
        "\n",
        "(train_data, train_targets), (test_data, test_targets) = boston_housing.load_data()"
      ],
      "execution_count": 1,
      "outputs": [
        {
          "output_type": "stream",
          "text": [
            "Using TensorFlow backend.\n"
          ],
          "name": "stderr"
        },
        {
          "output_type": "stream",
          "text": [
            "Downloading data from https://s3.amazonaws.com/keras-datasets/boston_housing.npz\n",
            "57344/57026 [==============================] - 0s 1us/step\n"
          ],
          "name": "stdout"
        }
      ]
    },
    {
      "metadata": {
        "id": "ghbWpUurhu_X",
        "colab_type": "text"
      },
      "cell_type": "markdown",
      "source": [
        "Normalizing the data - subtract the mean of the feature and divide by the standard deviation"
      ]
    },
    {
      "metadata": {
        "id": "wIgIyMl6h3cv",
        "colab_type": "code",
        "colab": {}
      },
      "cell_type": "code",
      "source": [
        "mean = train_data.mean(axis=0)\n",
        "train_data -= mean\n",
        "std = train_data.std(axis=0)\n",
        "train_data /= std\n",
        "test_data -= mean\n",
        "test_data /= std"
      ],
      "execution_count": 0,
      "outputs": []
    },
    {
      "metadata": {
        "id": "tZN5lIZpiPVU",
        "colab_type": "text"
      },
      "cell_type": "markdown",
      "source": [
        "Model definition"
      ]
    },
    {
      "metadata": {
        "id": "9KcExQc_iTmg",
        "colab_type": "code",
        "colab": {}
      },
      "cell_type": "code",
      "source": [
        "from keras import models\n",
        "from keras import layers\n",
        "\n",
        "def build_model():\n",
        "  model = models.Sequential()\n",
        "  \n",
        "  model.add(layers.Dense(64, activation='relu',input_shape=(train_data.shape[1],)))\n",
        "  model.add(layers.Dense(64, activation='relu'))\n",
        "  model.add(layers.Dense(1))\n",
        "  model.compile(optimizer='rmsprop', loss='mse', metrics=['mae'])\n",
        "  return model"
      ],
      "execution_count": 0,
      "outputs": []
    },
    {
      "metadata": {
        "id": "a12xeb9ioUw8",
        "colab_type": "text"
      },
      "cell_type": "markdown",
      "source": [
        "K-fold validation"
      ]
    },
    {
      "metadata": {
        "id": "4obPYhSioVnw",
        "colab_type": "code",
        "colab": {}
      },
      "cell_type": "code",
      "source": [
        "import numpy as np\n",
        "\n",
        "k = 4\n",
        "num_val_samples = len(train_data) // k\n",
        "num_epochs = 100\n",
        "all_scores = []"
      ],
      "execution_count": 0,
      "outputs": []
    },
    {
      "metadata": {
        "id": "k2N-eb4UqCOg",
        "colab_type": "text"
      },
      "cell_type": "markdown",
      "source": [
        "Saving the validation logs at each fold"
      ]
    },
    {
      "metadata": {
        "id": "NCDKd6N8qD1W",
        "colab_type": "code",
        "colab": {
          "base_uri": "https://localhost:8080/",
          "height": 85
        },
        "outputId": "d1271efd-3fb6-4c7e-e839-4da40b2f2ff4"
      },
      "cell_type": "code",
      "source": [
        "num_epochs = 80\n",
        "all_mae_histories = []\n",
        "\n",
        "for i in range(k):\n",
        "  print('processing fold #', i)\n",
        "  \n",
        "  #Prepares the validation data: data from partition #k\n",
        "  val_data = train_data[i * num_val_samples: (i + 1) * num_val_samples] \n",
        "  val_targets = train_targets[i * num_val_samples: (i + 1) * num_val_samples]\n",
        "  \n",
        "  #Prepares the training data: data from all other partitions\n",
        "  partial_train_data = np.concatenate([train_data[:i * num_val_samples], train_data[(i + 1) * num_val_samples:]], axis=0)\n",
        "  partial_train_targets = np.concatenate([train_targets[:i * num_val_samples], train_targets[(i + 1) * num_val_samples:]], axis=0)\n",
        "  \n",
        "  \n",
        "  model = build_model()\n",
        "  \n",
        "  history = model.fit(partial_train_data, partial_train_targets, validation_data=(val_data, val_targets), epochs=num_epochs, batch_size=16, verbose=0)\n",
        "  \n",
        "  mae_history = history.history['val_mean_absolute_error']\n",
        "  all_mae_histories.append(mae_history)\n",
        "  \n",
        "  "
      ],
      "execution_count": 13,
      "outputs": [
        {
          "output_type": "stream",
          "text": [
            "processing fold # 0\n",
            "processing fold # 1\n",
            "processing fold # 2\n",
            "processing fold # 3\n"
          ],
          "name": "stdout"
        }
      ]
    },
    {
      "metadata": {
        "id": "lnkMPTiXrH7T",
        "colab_type": "text"
      },
      "cell_type": "markdown",
      "source": [
        "Building the history of successive mean K-fold validation scores"
      ]
    },
    {
      "metadata": {
        "id": "Kzm5hy4ErJ2m",
        "colab_type": "code",
        "colab": {}
      },
      "cell_type": "code",
      "source": [
        "average_mae_history = [np.mean([x[i] for x in all_mae_histories]) for i in range(num_epochs)]"
      ],
      "execution_count": 0,
      "outputs": []
    },
    {
      "metadata": {
        "id": "rn1SgicEsJkl",
        "colab_type": "text"
      },
      "cell_type": "markdown",
      "source": [
        "Plotting validation scores"
      ]
    },
    {
      "metadata": {
        "id": "9IFipTV0sc72",
        "colab_type": "code",
        "colab": {
          "base_uri": "https://localhost:8080/",
          "height": 361
        },
        "outputId": "42bae513-841f-4a57-84f3-3c9500967efd"
      },
      "cell_type": "code",
      "source": [
        "import matplotlib.pyplot as plt\n",
        "\n",
        "def smooth_curve(points, factor=0.9):\n",
        "  smoothed_points = []\n",
        "  for point in points:\n",
        "    if smoothed_points:\n",
        "      previous = smoothed_points[-1]\n",
        "      smoothed_points.append(previous * factor + point * (1 - factor))\n",
        "    else:\n",
        "      smoothed_points.append(point)\n",
        "      \n",
        "  return smoothed_points\n",
        "\n",
        "\n",
        "smooth_mae_history = smooth_curve(average_mae_history[10:])\n",
        "\n",
        "plt.plot(range(1, len(smooth_mae_history) + 1), smooth_mae_history)\n",
        "plt.xlabel('Epochs')\n",
        "plt.ylabel('Validation MAE')\n",
        "plt.show()"
      ],
      "execution_count": 16,
      "outputs": [
        {
          "output_type": "display_data",
          "data": {
            "image/png": "[encoded data removed]",
            "text/plain": [
              "<matplotlib.figure.Figure at 0x7fb70a50a710>"
            ]
          },
          "metadata": {
            "tags": []
          }
        }
      ]
    },
    {
      "metadata": {
        "id": "-kftw7Z6uAP7",
        "colab_type": "text"
      },
      "cell_type": "markdown",
      "source": [
        "Training the final model"
      ]
    },
    {
      "metadata": {
        "id": "nTcFz6sQuE9L",
        "colab_type": "code",
        "colab": {
          "base_uri": "https://localhost:8080/",
          "height": 68
        },
        "outputId": "027bce73-d108-4b88-9486-246c87f53d31"
      },
      "cell_type": "code",
      "source": [
        "test_mse_score, test_mae_score = model.evaluate(test_data, test_targets)\n",
        "\n",
        "print('test_mse_score:', test_mse_score)\n",
        "print('test_mae_score:', test_mae_score)"
      ],
      "execution_count": 17,
      "outputs": [
        {
          "output_type": "stream",
          "text": [
            "102/102 [==============================] - 0s 225us/step\n",
            "test_mse_score: 21.688648298674938\n",
            "test_mae_score: 2.865442678040149\n"
          ],
          "name": "stdout"
        }
      ]
    }
  ]
}