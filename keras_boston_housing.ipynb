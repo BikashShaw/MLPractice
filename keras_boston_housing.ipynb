{
 "cells": [
  {
   "cell_type": "markdown",
   "metadata": {
    "id": "view-in-github",
    "colab_type": "text"
   },
   "source": [
    "[View in Colaboratory](https://colab.research.google.com/github/BikashShaw/MLPractice/blob/master/keras_boston_housing.ipynb)"
   ]
  },
  {
   "cell_type": "markdown",
   "metadata": {
    "id": "EmXarY0gg1PZ",
    "colab_type": "text"
   },
   "source": [
    "Loading the Boston housing dataset"
   ]
  },
  {
   "cell_type": "code",
   "execution_count": 3,
   "metadata": {
    "id": "BUPcA_pEgrPn",
    "colab_type": "code",
    "colab": {}
   },
   "outputs": [],
   "source": [
    "from tensorflow.python.keras.datasets import boston_housing\n",
    "\n",
    "(train_data, train_targets), (test_data, test_targets) = boston_housing.load_data()"
   ]
  },
  {
   "cell_type": "markdown",
   "metadata": {
    "id": "ghbWpUurhu_X",
    "colab_type": "text"
   },
   "source": [
    "Normalizing the data - subtract the mean of the feature and divide by the standard deviation"
   ]
  },
  {
   "cell_type": "code",
   "execution_count": 4,
   "metadata": {
    "id": "wIgIyMl6h3cv",
    "colab_type": "code",
    "colab": {}
   },
   "outputs": [],
   "source": [
    "mean = train_data.mean(axis=0)\n",
    "train_data -= mean\n",
    "std = train_data.std(axis=0)\n",
    "train_data /= std\n",
    "test_data -= mean\n",
    "test_data /= std"
   ]
  },
  {
   "cell_type": "markdown",
   "metadata": {
    "id": "tZN5lIZpiPVU",
    "colab_type": "text"
   },
   "source": [
    "Model definition"
   ]
  },
  {
   "cell_type": "code",
   "execution_count": 6,
   "metadata": {
    "id": "9KcExQc_iTmg",
    "colab_type": "code",
    "colab": {}
   },
   "outputs": [],
   "source": [
    "from tensorflow.python.keras import models\n",
    "from tensorflow.python.keras import layers\n",
    "\n",
    "def build_model():\n",
    "  model = models.Sequential()\n",
    "  \n",
    "  model.add(layers.Dense(64, activation='relu',input_shape=(train_data.shape[1],)))\n",
    "  model.add(layers.Dense(64, activation='relu'))\n",
    "  model.add(layers.Dense(1))\n",
    "  model.compile(optimizer='rmsprop', loss='mse', metrics=['mae'])\n",
    "  return model"
   ]
  },
  {
   "cell_type": "markdown",
   "metadata": {
    "id": "a12xeb9ioUw8",
    "colab_type": "text"
   },
   "source": [
    "K-fold validation"
   ]
  },
  {
   "cell_type": "code",
   "execution_count": 8,
   "metadata": {
    "id": "4obPYhSioVnw",
    "colab_type": "code",
    "colab": {}
   },
   "outputs": [],
   "source": [
    "import numpy as np\n",
    "\n",
    "k = 4\n",
    "num_val_samples = len(train_data) // k\n",
    "num_epochs = 100\n",
    "all_scores = []"
   ]
  },
  {
   "cell_type": "markdown",
   "metadata": {
    "id": "k2N-eb4UqCOg",
    "colab_type": "text"
   },
   "source": [
    "Saving the validation logs at each fold"
   ]
  },
  {
   "cell_type": "code",
   "execution_count": 9,
   "metadata": {
    "id": "NCDKd6N8qD1W",
    "colab_type": "code",
    "colab": {
     "base_uri": "https://localhost:8080/",
     "height": 85.0
    },
    "outputId": "82934d34-7410-4d93-cd5b-39d8cce06209"
   },
   "outputs": [
    {
     "name": "stdout",
     "output_type": "stream",
     "text": [
      "processing fold # 0\n"
     ]
    },
    {
     "name": "stdout",
     "output_type": "stream",
     "text": [
      "processing fold # 1\n"
     ]
    },
    {
     "name": "stdout",
     "output_type": "stream",
     "text": [
      "processing fold # 2\n"
     ]
    }
   ],
   "source": [
    "num_epochs = 80\n",
    "all_mae_histories = []\n",
    "\n",
    "for i in range(k):\n",
    "    print('processing fold #', i)\n",
    "\n",
    "    #Prepares the validation data: data from partition #k\n",
    "    val_data = train_data[i * num_val_samples: (i + 1) * num_val_samples]\n",
    "    val_targets = train_targets[i * num_val_samples: (i + 1) * num_val_samples]\n",
    "\n",
    "    #Prepares the training data: data from all other partitions\n",
    "    partial_train_data = np.concatenate([train_data[:i * num_val_samples], train_data[(i + 1) * num_val_samples:]],\n",
    "                                        axis=0)\n",
    "    partial_train_targets = np.concatenate(\n",
    "        [train_targets[:i * num_val_samples], train_targets[(i + 1) * num_val_samples:]], axis=0)\n",
    "\n",
    "    model = build_model()\n",
    "\n",
    "    history = model.fit(partial_train_data, partial_train_targets, validation_data=(val_data, val_targets),\n",
    "                        epochs=num_epochs, batch_size=16, verbose=0)\n",
    "\n",
    "    mae_history = history.history['val_mean_absolute_error']\n",
    "    all_mae_histories.append(mae_history)\n",
    " "
   ]
  },
  {
   "cell_type": "markdown",
   "metadata": {
    "id": "lnkMPTiXrH7T",
    "colab_type": "text"
   },
   "source": [
    "Building the history of successive mean K-fold validation scores"
   ]
  },
  {
   "cell_type": "code",
   "execution_count": 10,
   "metadata": {
    "id": "Kzm5hy4ErJ2m",
    "colab_type": "code",
    "colab": {}
   },
   "outputs": [],
   "source": [
    "average_mae_history = [np.mean([x[i] for x in all_mae_histories]) for i in range(num_epochs)]"
   ]
  },
  {
   "cell_type": "markdown",
   "metadata": {
    "id": "rn1SgicEsJkl",
    "colab_type": "text"
   },
   "source": [
    "Plotting validation scores"
   ]
  },
  {
   "cell_type": "code",
   "execution_count": 12,
   "metadata": {
    "id": "9IFipTV0sc72",
    "colab_type": "code",
    "colab": {
     "base_uri": "https://localhost:8080/",
     "height": 361.0
    },
    "outputId": "459020ab-aa94-4c3a-9b28-6076d9ff53cc"
   },
   "outputs": [
    {
     "data": {
      "image/png": "[encoded data removed]",
      "text/plain": [
       "<matplotlib.figure.Figure at 0x242a5207a58>"
      ]
     },
     "metadata": {},
     "output_type": "display_data"
    }
   ],
   "source": [
    "import matplotlib.pyplot as plt\n",
    "\n",
    "def smooth_curve(points, factor=0.9):\n",
    "  smoothed_points = []\n",
    "  for point in points:\n",
    "    if smoothed_points:\n",
    "      previous = smoothed_points[-1]\n",
    "      smoothed_points.append(previous * factor + point * (1 - factor))\n",
    "    else:\n",
    "      smoothed_points.append(point)\n",
    "      \n",
    "  return smoothed_points\n",
    "\n",
    "\n",
    "smooth_mae_history = smooth_curve(average_mae_history[10:])\n",
    "\n",
    "plt.plot(range(1, len(smooth_mae_history) + 1), smooth_mae_history)\n",
    "plt.xlabel('Epochs')\n",
    "plt.ylabel('Validation MAE')\n",
    "plt.show()"
   ]
  },
  {
   "cell_type": "markdown",
   "metadata": {
    "id": "-kftw7Z6uAP7",
    "colab_type": "text"
   },
   "source": [
    "Training the final model"
   ]
  },
  {
   "cell_type": "code",
   "execution_count": 13,
   "metadata": {
    "id": "nTcFz6sQuE9L",
    "colab_type": "code",
    "colab": {
     "base_uri": "https://localhost:8080/",
     "height": 68.0
    },
    "outputId": "66f37163-9f1c-4d9d-b0a4-2f71e8f00789"
   },
   "outputs": [
    {
     "name": "stdout",
     "output_type": "stream",
     "text": [
      "\r 32/102 [========>.....................] - ETA: 0s"
     ]
    },
    {
     "name": "stdout",
     "output_type": "stream",
     "text": [
      "\b\b\b\b\b\b\b\b\b\b\b\b\b\b\b\b\b\b\b\b\b\b\b\b\b\b\b\b\b\b\b\b\b\b\b\b\b\b\b\b\b\b\b\b\b\b\b\b\b\b\r 64/102 [=================>............] - ETA: 0s"
     ]
    },
    {
     "name": "stdout",
     "output_type": "stream",
     "text": [
      "\b\b\b\b\b\b\b\b\b\b\b\b\b\b\b\b\b\b\b\b\b\b\b\b\b\b\b\b\b\b\b\b\b\b\b\b\b\b\b\b\b\b\b\b\b\b\b\b\b\b"
     ]
    },
    {
     "name": "stdout",
     "output_type": "stream",
     "text": [
      "\r102/102 [==============================] - 0s 3ms/step\n"
     ]
    },
    {
     "name": "stdout",
     "output_type": "stream",
     "text": [
      "test_mse_score: 24.264424641927082\ntest_mae_score: 3.0436640346751496\n"
     ]
    }
   ],
   "source": [
    "test_mse_score, test_mae_score = model.evaluate(test_data, test_targets)\n",
    "\n",
    "print('test_mse_score:', test_mse_score)\n",
    "print('test_mae_score:', test_mae_score)"
   ]
  }
 ],
 "metadata": {
  "colab": {
   "name": "keras_boston_housing.ipynb",
   "version": "0.3.2",
   "provenance": [],
   "collapsed_sections": []
  },
  "kernelspec": {
   "name": "python3",
   "display_name": "Python 3"
  }
 },
 "nbformat": 4,
 "nbformat_minor": 0
}
