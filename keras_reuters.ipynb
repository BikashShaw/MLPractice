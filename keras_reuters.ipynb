{
  "nbformat": 4,
  "nbformat_minor": 0,
  "metadata": {
    "colab": {
      "name": "keras_reuters.ipynb",
      "version": "0.3.2",
      "provenance": [],
      "collapsed_sections": []
    },
    "kernelspec": {
      "name": "python3",
      "display_name": "Python 3"
    }
  },
  "cells": [
    {
      "cell_type": "markdown",
      "metadata": {
        "id": "view-in-github",
        "colab_type": "text"
      },
      "source": [
        "[View in Colaboratory](https://colab.research.google.com/github/BikashShaw/MLPractice/blob/master/keras_reuters.ipynb)"
      ]
    },
    {
      "metadata": {
        "id": "h0OE7QMgmPaD",
        "colab_type": "text"
      },
      "cell_type": "markdown",
      "source": [
        "Loading the Reuters dataset"
      ]
    },
    {
      "metadata": {
        "id": "16-nuAmAmH53",
        "colab_type": "code",
        "colab": {
          "base_uri": "https://localhost:8080/",
          "height": 68
        },
        "outputId": "3269ac57-aa1c-4950-abb1-5b104fc8790e"
      },
      "cell_type": "code",
      "source": [
        "from keras.datasets import reuters\n",
        "\n",
        "(train_data, train_labels), (test_data, test_labels) = reuters.load_data(num_words=10000)"
      ],
      "execution_count": 1,
      "outputs": [
        {
          "output_type": "stream",
          "text": [
            "Using TensorFlow backend.\n"
          ],
          "name": "stderr"
        },
        {
          "output_type": "stream",
          "text": [
            "Downloading data from https://s3.amazonaws.com/text-datasets/reuters.npz\n",
            "2113536/2110848 [==============================] - 2s 1us/step\n"
          ],
          "name": "stdout"
        }
      ]
    },
    {
      "metadata": {
        "id": "z_YI20GcmxgF",
        "colab_type": "text"
      },
      "cell_type": "markdown",
      "source": [
        "Decoding newswires back to text"
      ]
    },
    {
      "metadata": {
        "id": "O6Z7QY0sm0DN",
        "colab_type": "code",
        "colab": {
          "base_uri": "https://localhost:8080/",
          "height": 51
        },
        "outputId": "827d93ff-1802-41fa-92c4-6f4d0e73e0d9"
      },
      "cell_type": "code",
      "source": [
        "word_index = reuters.get_word_index()\n",
        "reverse_word_index = dict([(value, key) for (key, value) in word_index.items()])\n",
        "decoded_newswire = ' '.join([reverse_word_index.get(i - 3, '?') for i in train_data[0]])"
      ],
      "execution_count": 2,
      "outputs": [
        {
          "output_type": "stream",
          "text": [
            "Downloading data from https://s3.amazonaws.com/text-datasets/reuters_word_index.json\n",
            "557056/550378 [==============================] - 1s 1us/step\n"
          ],
          "name": "stdout"
        }
      ]
    },
    {
      "metadata": {
        "id": "DOSsLuLUnBxm",
        "colab_type": "text"
      },
      "cell_type": "markdown",
      "source": [
        "Encoding the data"
      ]
    },
    {
      "metadata": {
        "id": "hlqTmO9snEEJ",
        "colab_type": "code",
        "colab": {}
      },
      "cell_type": "code",
      "source": [
        "import numpy as np\n",
        "\n",
        "def vectorize_sequences(sequences, dimension=10000):\n",
        "  results = np.zeros((len(sequences), dimension))\n",
        "  \n",
        "  for i, sequence in enumerate(sequences):\n",
        "    results[i, sequence] = 1.\n",
        "  \n",
        "  return results\n",
        "\n",
        "x_train = vectorize_sequences(train_data)\n",
        "x_test = vectorize_sequences(test_data)"
      ],
      "execution_count": 0,
      "outputs": []
    },
    {
      "metadata": {
        "id": "Q7KKFW0WoIAU",
        "colab_type": "text"
      },
      "cell_type": "markdown",
      "source": [
        "Categorical encoding (also known as One-hot encoding)"
      ]
    },
    {
      "metadata": {
        "id": "jFSv8owRoRje",
        "colab_type": "code",
        "colab": {}
      },
      "cell_type": "code",
      "source": [
        "from keras.utils.np_utils import to_categorical\n",
        "\n",
        "one_hot_train_labels = to_categorical(train_labels)\n",
        "one_hot_test_labels = to_categorical(test_labels)"
      ],
      "execution_count": 0,
      "outputs": []
    },
    {
      "metadata": {
        "id": "l05kt7izoXf1",
        "colab_type": "text"
      },
      "cell_type": "markdown",
      "source": [
        "Model definition"
      ]
    },
    {
      "metadata": {
        "id": "STAbNWsQok-y",
        "colab_type": "code",
        "colab": {}
      },
      "cell_type": "code",
      "source": [
        "from keras import models\n",
        "from keras import layers\n",
        "\n",
        "model = models.Sequential()\n",
        "\n",
        "model.add(layers.Dense(64, activation='relu', input_shape=(10000,)))\n",
        "model.add(layers.Dense(64, activation='relu'))\n",
        "model.add(layers.Dense(46, activation='softmax'))"
      ],
      "execution_count": 0,
      "outputs": []
    },
    {
      "metadata": {
        "id": "3uTyAASvpDAK",
        "colab_type": "text"
      },
      "cell_type": "markdown",
      "source": [
        "Compiling the model"
      ]
    },
    {
      "metadata": {
        "id": "pmUK4Sp9pA58",
        "colab_type": "code",
        "colab": {}
      },
      "cell_type": "code",
      "source": [
        "model.compile(optimizer='rmsprop', loss='categorical_crossentropy', metrics=['accuracy'])"
      ],
      "execution_count": 0,
      "outputs": []
    },
    {
      "metadata": {
        "id": "Fl9-hyjIpH-8",
        "colab_type": "text"
      },
      "cell_type": "markdown",
      "source": [
        "Setting aside a validation set"
      ]
    },
    {
      "metadata": {
        "id": "KRLcpj4BpJ0V",
        "colab_type": "code",
        "colab": {}
      },
      "cell_type": "code",
      "source": [
        "x_val = x_train[:1000]\n",
        "partial_x_train = x_train[1000:]\n",
        "y_val = one_hot_train_labels[:1000]\n",
        "partial_y_train = one_hot_train_labels[1000:]"
      ],
      "execution_count": 0,
      "outputs": []
    },
    {
      "metadata": {
        "id": "Xq4T4h6QpQzT",
        "colab_type": "text"
      },
      "cell_type": "markdown",
      "source": [
        "Training the model"
      ]
    },
    {
      "metadata": {
        "id": "OVd4z1w_pUFU",
        "colab_type": "code",
        "colab": {
          "base_uri": "https://localhost:8080/",
          "height": 714
        },
        "outputId": "86888a6a-0387-4dc1-abe0-bbc325efe2d2"
      },
      "cell_type": "code",
      "source": [
        "history = model.fit(partial_x_train, partial_y_train, epochs=20, batch_size=512, validation_data=(x_val, y_val))"
      ],
      "execution_count": 13,
      "outputs": [
        {
          "output_type": "stream",
          "text": [
            "Train on 7982 samples, validate on 1000 samples\n",
            "Epoch 1/20\n",
            "7982/7982 [==============================] - 1s 163us/step - loss: 2.5226 - acc: 0.4959 - val_loss: 1.7188 - val_acc: 0.6120\n",
            "Epoch 2/20\n",
            "7982/7982 [==============================] - 1s 144us/step - loss: 1.4460 - acc: 0.6884 - val_loss: 1.3510 - val_acc: 0.7030\n",
            "Epoch 3/20\n",
            "7982/7982 [==============================] - 1s 146us/step - loss: 1.0982 - acc: 0.7638 - val_loss: 1.1740 - val_acc: 0.7420\n",
            "Epoch 4/20\n",
            "7982/7982 [==============================] - 1s 150us/step - loss: 0.8704 - acc: 0.8165 - val_loss: 1.0792 - val_acc: 0.7610\n",
            "Epoch 5/20\n",
            "7982/7982 [==============================] - 1s 151us/step - loss: 0.7033 - acc: 0.8494 - val_loss: 0.9841 - val_acc: 0.7820\n",
            "Epoch 6/20\n",
            "7982/7982 [==============================] - 1s 149us/step - loss: 0.5659 - acc: 0.8799 - val_loss: 0.9392 - val_acc: 0.8050\n",
            "Epoch 7/20\n",
            "7982/7982 [==============================] - 1s 149us/step - loss: 0.4583 - acc: 0.9052 - val_loss: 0.9080 - val_acc: 0.8020\n",
            "Epoch 8/20\n",
            "7982/7982 [==============================] - 1s 147us/step - loss: 0.3696 - acc: 0.9235 - val_loss: 0.9375 - val_acc: 0.7910\n",
            "Epoch 9/20\n",
            "6144/7982 [======================>.......] - ETA: 0s - loss: 0.3042 - acc: 0.9318"
          ],
          "name": "stdout"
        },
        {
          "output_type": "stream",
          "text": [
            "7982/7982 [==============================] - 1s 147us/step - loss: 0.3030 - acc: 0.9318 - val_loss: 0.8910 - val_acc: 0.8060\n",
            "Epoch 10/20\n",
            "7982/7982 [==============================] - 1s 148us/step - loss: 0.2539 - acc: 0.9417 - val_loss: 0.9087 - val_acc: 0.8130\n",
            "Epoch 11/20\n",
            "7982/7982 [==============================] - 1s 149us/step - loss: 0.2186 - acc: 0.9471 - val_loss: 0.9164 - val_acc: 0.8110\n",
            "Epoch 12/20\n",
            "7982/7982 [==============================] - 1s 150us/step - loss: 0.1876 - acc: 0.9511 - val_loss: 0.9055 - val_acc: 0.8150\n",
            "Epoch 13/20\n",
            "7982/7982 [==============================] - 1s 149us/step - loss: 0.1703 - acc: 0.9526 - val_loss: 0.9352 - val_acc: 0.8060\n",
            "Epoch 14/20\n",
            "7982/7982 [==============================] - 1s 148us/step - loss: 0.1535 - acc: 0.9560 - val_loss: 0.9656 - val_acc: 0.8050\n",
            "Epoch 15/20\n",
            "7982/7982 [==============================] - 1s 148us/step - loss: 0.1394 - acc: 0.9559 - val_loss: 0.9715 - val_acc: 0.8150\n",
            "Epoch 16/20\n",
            "7982/7982 [==============================] - 1s 175us/step - loss: 0.1317 - acc: 0.9560 - val_loss: 1.0311 - val_acc: 0.8040\n",
            "Epoch 17/20\n",
            "7982/7982 [==============================] - 1s 149us/step - loss: 0.1224 - acc: 0.9578 - val_loss: 1.0256 - val_acc: 0.7990\n",
            "Epoch 18/20\n",
            "1024/7982 [==>...........................] - ETA: 0s - loss: 0.1321 - acc: 0.9570"
          ],
          "name": "stdout"
        },
        {
          "output_type": "stream",
          "text": [
            "7982/7982 [==============================] - 1s 146us/step - loss: 0.1200 - acc: 0.9572 - val_loss: 1.0451 - val_acc: 0.8030\n",
            "Epoch 19/20\n",
            "7982/7982 [==============================] - 1s 148us/step - loss: 0.1143 - acc: 0.9592 - val_loss: 1.1003 - val_acc: 0.7960\n",
            "Epoch 20/20\n",
            "7982/7982 [==============================] - 1s 147us/step - loss: 0.1120 - acc: 0.9595 - val_loss: 1.0733 - val_acc: 0.8000\n"
          ],
          "name": "stdout"
        }
      ]
    },
    {
      "metadata": {
        "id": "ktIOgAaGpfj6",
        "colab_type": "text"
      },
      "cell_type": "markdown",
      "source": [
        "Plotting the training and validation loss"
      ]
    },
    {
      "metadata": {
        "id": "V27I7trHpgOS",
        "colab_type": "code",
        "colab": {
          "base_uri": "https://localhost:8080/",
          "height": 376
        },
        "outputId": "e8e67701-f093-4250-a3a0-ec575b1ee27e"
      },
      "cell_type": "code",
      "source": [
        "import matplotlib.pyplot as plt\n",
        "\n",
        "loss = history.history['loss']\n",
        "val_loss = history.history['val_loss']\n",
        "\n",
        "epochs = range(1, len(loss) + 1)\n",
        "\n",
        "plt.plot(epochs, loss, 'bo', label='Training loss')\n",
        "plt.plot(epochs, val_loss, 'b', label='Validation loss')\n",
        "plt.title('Training and validation loss')\n",
        "plt.xlabel('Epochs')\n",
        "plt.ylabel('Loss')\n",
        "plt.legend()\n",
        "\n",
        "plt.show()"
      ],
      "execution_count": 14,
      "outputs": [
        {
          "output_type": "display_data",
          "data": {
            "image/png": "[encoded data removed]",
            "text/plain": [
              "<matplotlib.figure.Figure at 0x7f8451ee97b8>"
            ]
          },
          "metadata": {
            "tags": []
          }
        }
      ]
    },
    {
      "metadata": {
        "id": "lG4TcLMgplPN",
        "colab_type": "text"
      },
      "cell_type": "markdown",
      "source": [
        "Plotting the training and validation accuracy"
      ]
    },
    {
      "metadata": {
        "id": "QwXyZtWipnY0",
        "colab_type": "code",
        "colab": {
          "base_uri": "https://localhost:8080/",
          "height": 376
        },
        "outputId": "f9f98894-b5e9-418f-ed7b-8b08159c11ea"
      },
      "cell_type": "code",
      "source": [
        "plt.clf()\n",
        "\n",
        "acc = history.history['acc']\n",
        "val_acc = history.history['val_acc']\n",
        "\n",
        "plt.plot(epochs, acc, 'bo', label='Training acc')\n",
        "plt.plot(epochs, val_acc, 'b', label='Validation acc')\n",
        "plt.title('Training and validation accuracy')\n",
        "plt.xlabel('Epochs')\n",
        "plt.ylabel('Loss')\n",
        "plt.legend()\n",
        "\n",
        "plt.show()"
      ],
      "execution_count": 15,
      "outputs": [
        {
          "output_type": "display_data",
          "data": {
            "image/png": "[encoded data removed]",
            "text/plain": [
              "<matplotlib.figure.Figure at 0x7f845200ba58>"
            ]
          },
          "metadata": {
            "tags": []
          }
        }
      ]
    },
    {
      "metadata": {
        "id": "GFVVyorapyZD",
        "colab_type": "text"
      },
      "cell_type": "markdown",
      "source": [
        "Retraining a model from scratch"
      ]
    },
    {
      "metadata": {
        "id": "TtM6QWpQp2FT",
        "colab_type": "code",
        "colab": {
          "base_uri": "https://localhost:8080/",
          "height": 374
        },
        "outputId": "08539e36-14fb-4c09-a95a-efc8579dc48f"
      },
      "cell_type": "code",
      "source": [
        "model = models.Sequential()\n",
        "\n",
        "model.add(layers.Dense(64, activation='relu', input_shape=(10000,)))\n",
        "model.add(layers.Dense(64, activation='relu'))\n",
        "model.add(layers.Dense(46, activation='softmax'))\n",
        "\n",
        "model.compile(optimizer='rmsprop', loss='categorical_crossentropy', metrics=['accuracy'])\n",
        "\n",
        "model.fit(partial_x_train, partial_y_train, epochs=9, batch_size=512, validation_data=(x_val, y_val))\n",
        "\n",
        "results = model.evaluate(x_test, one_hot_test_labels)\n",
        "\n",
        "print(results)"
      ],
      "execution_count": 16,
      "outputs": [
        {
          "output_type": "stream",
          "text": [
            "Train on 7982 samples, validate on 1000 samples\n",
            "Epoch 1/9\n",
            "7982/7982 [==============================] - 1s 153us/step - loss: 2.5308 - acc: 0.5234 - val_loss: 1.6804 - val_acc: 0.6540\n",
            "Epoch 2/9\n",
            "7982/7982 [==============================] - 1s 132us/step - loss: 1.3736 - acc: 0.7134 - val_loss: 1.2826 - val_acc: 0.7240\n",
            "Epoch 3/9\n",
            "7982/7982 [==============================] - 1s 146us/step - loss: 1.0194 - acc: 0.7793 - val_loss: 1.1382 - val_acc: 0.7500\n",
            "Epoch 4/9\n",
            "7982/7982 [==============================] - 1s 154us/step - loss: 0.8037 - acc: 0.8244 - val_loss: 1.0572 - val_acc: 0.7570\n",
            "Epoch 5/9\n",
            "7982/7982 [==============================] - 1s 148us/step - loss: 0.6446 - acc: 0.8622 - val_loss: 0.9812 - val_acc: 0.7950\n",
            "Epoch 6/9\n",
            "7982/7982 [==============================] - 1s 147us/step - loss: 0.5158 - acc: 0.8908 - val_loss: 0.9125 - val_acc: 0.8120\n",
            "Epoch 7/9\n",
            "7982/7982 [==============================] - 1s 149us/step - loss: 0.4150 - acc: 0.9139 - val_loss: 0.8971 - val_acc: 0.8210\n",
            "Epoch 8/9\n",
            "7982/7982 [==============================] - 1s 149us/step - loss: 0.3378 - acc: 0.9290 - val_loss: 0.8752 - val_acc: 0.8250\n",
            "Epoch 9/9\n",
            "6656/7982 [========================>.....] - ETA: 0s - loss: 0.2782 - acc: 0.9370"
          ],
          "name": "stdout"
        },
        {
          "output_type": "stream",
          "text": [
            "7982/7982 [==============================] - 1s 147us/step - loss: 0.2806 - acc: 0.9370 - val_loss: 0.9385 - val_acc: 0.8010\n",
            "2246/2246 [==============================] - 0s 128us/step\n",
            "[1.0211804550031627, 0.7769367765446168]\n"
          ],
          "name": "stdout"
        }
      ]
    }
  ]
}