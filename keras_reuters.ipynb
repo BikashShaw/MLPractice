{
  "nbformat": 4,
  "nbformat_minor": 0,
  "metadata": {
    "colab": {
      "name": "keras_reuters.ipynb",
      "version": "0.3.2",
      "provenance": [],
      "collapsed_sections": []
    },
    "kernelspec": {
      "name": "python3",
      "display_name": "Python 3"
    }
  },
  "cells": [
    {
      "cell_type": "markdown",
      "metadata": {
        "id": "view-in-github",
        "colab_type": "text"
      },
      "source": [
        "[View in Colaboratory](https://colab.research.google.com/github/BikashShaw/MLPractice/blob/master/keras_reuters.ipynb)"
      ]
    },
    {
      "metadata": {
        "id": "h0OE7QMgmPaD",
        "colab_type": "text"
      },
      "cell_type": "markdown",
      "source": [
        "Loading the Reuters dataset"
      ]
    },
    {
      "metadata": {
        "id": "16-nuAmAmH53",
        "colab_type": "code",
        "colab": {}
      },
      "cell_type": "code",
      "source": [
        "from tensorflow.python.keras.datasets import reuters\n",
        "\n",
        "(train_data, train_labels), (test_data, test_labels) = reuters.load_data(num_words=10000)"
      ],
      "execution_count": 0,
      "outputs": []
    },
    {
      "metadata": {
        "id": "z_YI20GcmxgF",
        "colab_type": "text"
      },
      "cell_type": "markdown",
      "source": [
        "Decoding newswires back to text"
      ]
    },
    {
      "metadata": {
        "id": "O6Z7QY0sm0DN",
        "colab_type": "code",
        "colab": {}
      },
      "cell_type": "code",
      "source": [
        "word_index = reuters.get_word_index()\n",
        "reverse_word_index = dict([(value, key) for (key, value) in word_index.items()])\n",
        "decoded_newswire = ' '.join([reverse_word_index.get(i - 3, '?') for i in train_data[0]])"
      ],
      "execution_count": 0,
      "outputs": []
    },
    {
      "metadata": {
        "id": "DOSsLuLUnBxm",
        "colab_type": "text"
      },
      "cell_type": "markdown",
      "source": [
        "Encoding the data"
      ]
    },
    {
      "metadata": {
        "id": "hlqTmO9snEEJ",
        "colab_type": "code",
        "colab": {}
      },
      "cell_type": "code",
      "source": [
        "import numpy as np\n",
        "\n",
        "def vectorize_sequences(sequences, dimension=10000):\n",
        "  results = np.zeros((len(sequences), dimension))\n",
        "  \n",
        "  for i, sequence in enumerate(sequences):\n",
        "    results[i, sequence] = 1.\n",
        "  \n",
        "  return results\n",
        "\n",
        "x_train = vectorize_sequences(train_data)\n",
        "x_test = vectorize_sequences(test_data)"
      ],
      "execution_count": 0,
      "outputs": []
    },
    {
      "metadata": {
        "id": "Q7KKFW0WoIAU",
        "colab_type": "text"
      },
      "cell_type": "markdown",
      "source": [
        "Categorical encoding (also known as One-hot encoding)"
      ]
    },
    {
      "metadata": {
        "id": "jFSv8owRoRje",
        "colab_type": "code",
        "colab": {}
      },
      "cell_type": "code",
      "source": [
        "from tensorflow.python.keras.utils import to_categorical\n",
        "\n",
        "one_hot_train_labels = to_categorical(train_labels)\n",
        "one_hot_test_labels = to_categorical(test_labels)"
      ],
      "execution_count": 0,
      "outputs": []
    },
    {
      "metadata": {
        "id": "l05kt7izoXf1",
        "colab_type": "text"
      },
      "cell_type": "markdown",
      "source": [
        "Model definition"
      ]
    },
    {
      "metadata": {
        "id": "STAbNWsQok-y",
        "colab_type": "code",
        "colab": {}
      },
      "cell_type": "code",
      "source": [
        "from tensorflow.python.keras import models\n",
        "from tensorflow.python.keras import layers\n",
        "\n",
        "model = models.Sequential()\n",
        "\n",
        "model.add(layers.Dense(64, activation='relu', input_shape=(10000,)))\n",
        "model.add(layers.Dense(64, activation='relu'))\n",
        "model.add(layers.Dense(46, activation='softmax'))"
      ],
      "execution_count": 0,
      "outputs": []
    },
    {
      "metadata": {
        "id": "3uTyAASvpDAK",
        "colab_type": "text"
      },
      "cell_type": "markdown",
      "source": [
        "Compiling the model"
      ]
    },
    {
      "metadata": {
        "id": "pmUK4Sp9pA58",
        "colab_type": "code",
        "colab": {}
      },
      "cell_type": "code",
      "source": [
        "model.compile(optimizer='rmsprop', loss='categorical_crossentropy', metrics=['accuracy'])"
      ],
      "execution_count": 0,
      "outputs": []
    },
    {
      "metadata": {
        "id": "Fl9-hyjIpH-8",
        "colab_type": "text"
      },
      "cell_type": "markdown",
      "source": [
        "Setting aside a validation set"
      ]
    },
    {
      "metadata": {
        "id": "KRLcpj4BpJ0V",
        "colab_type": "code",
        "colab": {}
      },
      "cell_type": "code",
      "source": [
        "x_val = x_train[:1000]\n",
        "partial_x_train = x_train[1000:]\n",
        "y_val = one_hot_train_labels[:1000]\n",
        "partial_y_train = one_hot_train_labels[1000:]"
      ],
      "execution_count": 0,
      "outputs": []
    },
    {
      "metadata": {
        "id": "Xq4T4h6QpQzT",
        "colab_type": "text"
      },
      "cell_type": "markdown",
      "source": [
        "Training the model"
      ]
    },
    {
      "metadata": {
        "id": "OVd4z1w_pUFU",
        "colab_type": "code",
        "colab": {
          "base_uri": "https://localhost:8080/",
          "height": 714
        },
        "outputId": "08345b99-669e-41db-d8ee-34ef63cf8a14"
      },
      "cell_type": "code",
      "source": [
        "history = model.fit(partial_x_train, partial_y_train, epochs=20, batch_size=512, validation_data=(x_val, y_val))"
      ],
      "execution_count": 26,
      "outputs": [
        {
          "output_type": "stream",
          "text": [
            "Train on 7982 samples, validate on 1000 samples\n",
            "Epoch 1/20\n",
            "7982/7982 [==============================] - 1s 151us/step - loss: 2.5435 - acc: 0.5031 - val_loss: 1.7008 - val_acc: 0.6370\n",
            "Epoch 2/20\n",
            "7982/7982 [==============================] - 1s 137us/step - loss: 1.4130 - acc: 0.7056 - val_loss: 1.3201 - val_acc: 0.6950\n",
            "Epoch 3/20\n",
            "7982/7982 [==============================] - 1s 148us/step - loss: 1.0583 - acc: 0.7811 - val_loss: 1.1456 - val_acc: 0.7670\n",
            "Epoch 4/20\n",
            "7982/7982 [==============================] - 1s 150us/step - loss: 0.8340 - acc: 0.8271 - val_loss: 1.0256 - val_acc: 0.8000\n",
            "Epoch 5/20\n",
            "7982/7982 [==============================] - 1s 148us/step - loss: 0.6617 - acc: 0.8621 - val_loss: 0.9641 - val_acc: 0.8090\n",
            "Epoch 6/20\n",
            "7982/7982 [==============================] - 1s 150us/step - loss: 0.5323 - acc: 0.8911 - val_loss: 0.9222 - val_acc: 0.8140\n",
            "Epoch 7/20\n",
            "7982/7982 [==============================] - 1s 151us/step - loss: 0.4280 - acc: 0.9099 - val_loss: 0.9052 - val_acc: 0.8150\n",
            "Epoch 8/20\n",
            "7982/7982 [==============================] - 1s 151us/step - loss: 0.3524 - acc: 0.9268 - val_loss: 0.8948 - val_acc: 0.8070\n",
            "Epoch 9/20\n",
            "6656/7982 [========================>.....] - ETA: 0s - loss: 0.2897 - acc: 0.9358"
          ],
          "name": "stdout"
        },
        {
          "output_type": "stream",
          "text": [
            "7982/7982 [==============================] - 1s 150us/step - loss: 0.2895 - acc: 0.9365 - val_loss: 0.8880 - val_acc: 0.8170\n",
            "Epoch 10/20\n",
            "7982/7982 [==============================] - 1s 148us/step - loss: 0.2402 - acc: 0.9451 - val_loss: 0.9256 - val_acc: 0.8080\n",
            "Epoch 11/20\n",
            "7982/7982 [==============================] - 1s 147us/step - loss: 0.2094 - acc: 0.9485 - val_loss: 0.9323 - val_acc: 0.8130\n",
            "Epoch 12/20\n",
            "7982/7982 [==============================] - 1s 150us/step - loss: 0.1821 - acc: 0.9508 - val_loss: 0.9333 - val_acc: 0.8120\n",
            "Epoch 13/20\n",
            "7982/7982 [==============================] - 1s 149us/step - loss: 0.1669 - acc: 0.9524 - val_loss: 0.9425 - val_acc: 0.8100\n",
            "Epoch 14/20\n",
            "7982/7982 [==============================] - 1s 148us/step - loss: 0.1506 - acc: 0.9550 - val_loss: 1.0045 - val_acc: 0.8070\n",
            "Epoch 15/20\n",
            "7982/7982 [==============================] - 1s 143us/step - loss: 0.1409 - acc: 0.9549 - val_loss: 0.9778 - val_acc: 0.8080\n",
            "Epoch 16/20\n",
            "7982/7982 [==============================] - 1s 149us/step - loss: 0.1313 - acc: 0.9557 - val_loss: 1.0121 - val_acc: 0.8170\n",
            "Epoch 17/20\n",
            "7982/7982 [==============================] - 1s 152us/step - loss: 0.1262 - acc: 0.9560 - val_loss: 1.0452 - val_acc: 0.8010\n",
            "Epoch 18/20\n",
            "1536/7982 [====>.........................] - ETA: 0s - loss: 0.1149 - acc: 0.9609"
          ],
          "name": "stdout"
        },
        {
          "output_type": "stream",
          "text": [
            "7982/7982 [==============================] - 1s 149us/step - loss: 0.1213 - acc: 0.9567 - val_loss: 1.0497 - val_acc: 0.8060\n",
            "Epoch 19/20\n",
            "7982/7982 [==============================] - 1s 149us/step - loss: 0.1200 - acc: 0.9563 - val_loss: 1.0695 - val_acc: 0.8040\n",
            "Epoch 20/20\n",
            "7982/7982 [==============================] - 1s 149us/step - loss: 0.1112 - acc: 0.9570 - val_loss: 1.0434 - val_acc: 0.8020\n"
          ],
          "name": "stdout"
        }
      ]
    },
    {
      "metadata": {
        "id": "ktIOgAaGpfj6",
        "colab_type": "text"
      },
      "cell_type": "markdown",
      "source": [
        "Plotting the training and validation loss"
      ]
    },
    {
      "metadata": {
        "id": "V27I7trHpgOS",
        "colab_type": "code",
        "colab": {
          "base_uri": "https://localhost:8080/",
          "height": 376
        },
        "outputId": "6b48cbad-57a3-4222-be55-4a067cb954de"
      },
      "cell_type": "code",
      "source": [
        "import matplotlib.pyplot as plt\n",
        "\n",
        "loss = history.history['loss']\n",
        "val_loss = history.history['val_loss']\n",
        "\n",
        "epochs = range(1, len(loss) + 1)\n",
        "\n",
        "plt.plot(epochs, loss, 'bo', label='Training loss')\n",
        "plt.plot(epochs, val_loss, 'b', label='Validation loss')\n",
        "plt.title('Training and validation loss')\n",
        "plt.xlabel('Epochs')\n",
        "plt.ylabel('Loss')\n",
        "plt.legend()\n",
        "\n",
        "plt.show()"
      ],
      "execution_count": 27,
      "outputs": [
        {
          "output_type": "display_data",
          "data": {
            "image/png": "[encoded data removed]",
            "text/plain": [
              "<matplotlib.figure.Figure at 0x7f8452ac9dd8>"
            ]
          },
          "metadata": {
            "tags": []
          }
        }
      ]
    },
    {
      "metadata": {
        "id": "lG4TcLMgplPN",
        "colab_type": "text"
      },
      "cell_type": "markdown",
      "source": [
        "Plotting the training and validation accuracy"
      ]
    },
    {
      "metadata": {
        "id": "QwXyZtWipnY0",
        "colab_type": "code",
        "colab": {
          "base_uri": "https://localhost:8080/",
          "height": 376
        },
        "outputId": "ebd15ac4-57c9-4ef8-d2fe-5a24f87f6569"
      },
      "cell_type": "code",
      "source": [
        "plt.clf()\n",
        "\n",
        "acc = history.history['acc']\n",
        "val_acc = history.history['val_acc']\n",
        "\n",
        "plt.plot(epochs, acc, 'bo', label='Training acc')\n",
        "plt.plot(epochs, val_acc, 'b', label='Validation acc')\n",
        "plt.title('Training and validation accuracy')\n",
        "plt.xlabel('Epochs')\n",
        "plt.ylabel('Loss')\n",
        "plt.legend()\n",
        "\n",
        "plt.show()"
      ],
      "execution_count": 28,
      "outputs": [
        {
          "output_type": "display_data",
          "data": {
            "image/png": "[encoded data removed]",
            "text/plain": [
              "<matplotlib.figure.Figure at 0x7f8451ef9b70>"
            ]
          },
          "metadata": {
            "tags": []
          }
        }
      ]
    },
    {
      "metadata": {
        "id": "GFVVyorapyZD",
        "colab_type": "text"
      },
      "cell_type": "markdown",
      "source": [
        "Retraining a model from scratch"
      ]
    },
    {
      "metadata": {
        "id": "TtM6QWpQp2FT",
        "colab_type": "code",
        "colab": {
          "base_uri": "https://localhost:8080/",
          "height": 374
        },
        "outputId": "8f7a72e9-680f-4bfb-9b86-2df7c37b79b4"
      },
      "cell_type": "code",
      "source": [
        "model = models.Sequential()\n",
        "\n",
        "model.add(layers.Dense(64, activation='relu', input_shape=(10000,)))\n",
        "model.add(layers.Dense(64, activation='relu'))\n",
        "model.add(layers.Dense(46, activation='softmax'))\n",
        "\n",
        "model.compile(optimizer='rmsprop', loss='categorical_crossentropy', metrics=['accuracy'])\n",
        "\n",
        "model.fit(partial_x_train, partial_y_train, epochs=9, batch_size=512, validation_data=(x_val, y_val))\n",
        "\n",
        "results = model.evaluate(x_test, one_hot_test_labels)\n",
        "\n",
        "print(results)"
      ],
      "execution_count": 29,
      "outputs": [
        {
          "output_type": "stream",
          "text": [
            "Train on 7982 samples, validate on 1000 samples\n",
            "Epoch 1/9\n",
            "7982/7982 [==============================] - 1s 160us/step - loss: 2.5634 - acc: 0.5421 - val_loss: 1.6525 - val_acc: 0.6550\n",
            "Epoch 2/9\n",
            "7982/7982 [==============================] - 1s 128us/step - loss: 1.3511 - acc: 0.7145 - val_loss: 1.2683 - val_acc: 0.7150\n",
            "Epoch 3/9\n",
            "7982/7982 [==============================] - 1s 150us/step - loss: 1.0032 - acc: 0.7853 - val_loss: 1.0998 - val_acc: 0.7580\n",
            "Epoch 4/9\n",
            "7982/7982 [==============================] - 1s 151us/step - loss: 0.7980 - acc: 0.8299 - val_loss: 1.0172 - val_acc: 0.7900\n",
            "Epoch 5/9\n",
            "7982/7982 [==============================] - 1s 146us/step - loss: 0.6287 - acc: 0.8701 - val_loss: 0.9627 - val_acc: 0.7970\n",
            "Epoch 6/9\n",
            "7982/7982 [==============================] - 1s 148us/step - loss: 0.5037 - acc: 0.8954 - val_loss: 0.9123 - val_acc: 0.8060\n",
            "Epoch 7/9\n",
            "7982/7982 [==============================] - 1s 146us/step - loss: 0.4101 - acc: 0.9153 - val_loss: 0.8849 - val_acc: 0.8150\n",
            "Epoch 8/9\n",
            "7982/7982 [==============================] - 1s 149us/step - loss: 0.3281 - acc: 0.9286 - val_loss: 0.9114 - val_acc: 0.8030\n",
            "Epoch 9/9\n",
            "6656/7982 [========================>.....] - ETA: 0s - loss: 0.2717 - acc: 0.9386"
          ],
          "name": "stdout"
        },
        {
          "output_type": "stream",
          "text": [
            "7982/7982 [==============================] - 1s 152us/step - loss: 0.2768 - acc: 0.9371 - val_loss: 0.8933 - val_acc: 0.8180\n",
            "2246/2246 [==============================] - 0s 117us/step\n",
            "[1.0043248024139677, 0.7827248441939468]\n"
          ],
          "name": "stdout"
        }
      ]
    }
  ]
}